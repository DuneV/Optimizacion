{
 "cells": [
  {
   "cell_type": "markdown",
   "metadata": {},
   "source": [
    "# Laboratorio Optimización No. 8"
   ]
  },
  {
   "cell_type": "markdown",
   "metadata": {},
   "source": [
    "Daniel Alvarez - 201911320  \n",
    "Maria Jose Vieda - 201923359"
   ]
  },
  {
   "cell_type": "markdown",
   "metadata": {},
   "source": [
    "### Importacion de Librerias:"
   ]
  },
  {
   "cell_type": "code",
   "execution_count": 266,
   "metadata": {},
   "outputs": [],
   "source": [
    "import numpy as np\n",
    "import time\n",
    "import pandas as pd\n",
    "from IPython.display import display\n",
    "from scipy.optimize import linprog, minimize\n",
    "import time\n",
    "from scipy.linalg import solve\n",
    "from collections import Counter"
   ]
  },
  {
   "cell_type": "markdown",
   "metadata": {},
   "source": [
    "# Punto 1\n",
    "G&L es una pequeña fabrica de equipos y accesorios de golf. Donde el dueño de dicha fabrica busca poder maximinar la distribución total para cada utilidad. Siendo estos, dos productos blasa deluxe y bolsa estandar con costos de utilidad de $9 y $7 respectivamente. Durante los siguientes tres meses estarán disponibles 630 horas de tiempo de corte y teñido, 600 de tiempo de costura, 708 horas de tiempo de terminado y 135 horas de tiempo de inspección y empaque para la producción de las bolsas de golf."
   ]
  },
  {
   "cell_type": "markdown",
   "metadata": {},
   "source": [
    "### Variables de desición:  \n",
    "> Para tener la utilidad general de la suma de las bolsas tenemos la siguiente función de costo:  \n",
    "$$\\max 7x_1 + 9x_2 = P(x_1,x_2)$$\n",
    "$$x_{1} \\rightarrow Estandar$$\n",
    "$$x_{2} \\rightarrow Deluxe$$\n",
    "$$\\min -7x_1 - 9x_2 = P(x_1,x_2)$$\n",
    "> Donde se tiene en general restricciones relacionadas con el material, por lo que obtenemos lo siguiente:  \n",
    "- S.A\n",
    "$$\\frac{7}{10}x_{1} + x_{2} \\leq 630$$\n",
    "$$\\frac{1}{2}x_{1} + \\frac{5}{6}x_{2} \\leq 600 $$\n",
    "$$x_{1} + \\frac{2}{3}x_{2} \\leq 708 $$\n",
    "$$\\frac{1}{10}x_{1} + \\frac{1}{4}x_{2} \\leq 135 $$\n",
    "> Para la cantidad maxima de producción de bolsas de en G&L."
   ]
  },
  {
   "cell_type": "code",
   "execution_count": 102,
   "metadata": {},
   "outputs": [],
   "source": [
    "# vectors of prove\n",
    "# A is a matrix\n",
    "A1 = np.array([[7/10, 1],\n",
    "             [1/2, 5/6],\n",
    "             [1, 2/3],\n",
    "             [1/10,1/4]])\n",
    "\n",
    "# b is the vector result\n",
    "b1 = np.array([630, 600, 708, 135])"
   ]
  },
  {
   "cell_type": "code",
   "execution_count": 112,
   "metadata": {},
   "outputs": [
    {
     "data": {
      "text/plain": [
       "     con: array([], dtype=float64)\n",
       "     fun: -6048.0\n",
       " message: 'Optimization terminated successfully.'\n",
       "     nit: 3\n",
       "   slack: array([  0., 120.,   0.,  18.])\n",
       "  status: 0\n",
       " success: True\n",
       "       x: array([540., 252.])"
      ]
     },
     "execution_count": 112,
     "metadata": {},
     "output_type": "execute_result"
    }
   ],
   "source": [
    "# Así pues se realiza el siguiente\n",
    "# procedimiento de optimización \n",
    "# para el sistema y función de utilidad.\n",
    "# P -> función de costo\n",
    "# coeficientes de P \n",
    "c_ex = np.array([7,9]) # x_1 x_2 \n",
    "# constantes de inecuaciones x_1 x_2 = 2 variables de control\n",
    "# representan 4 restricciones\n",
    "# [1] \n",
    "# [2] \n",
    "# [3] \n",
    "# [4]\n",
    "A = np.array([[7/10, 1],\n",
    "             [1/2, 5/6],\n",
    "             [1, 2/3],\n",
    "             [1/10,1/4]])\n",
    "# se cre el vector solucion de la matriz\n",
    "b = np.array([630, 600, 708, 135])\n",
    "# restricciones de variables no negativas, (no puede existir producción negativa)\n",
    "bounds_ex = [(  0,    None)]*2\n",
    "# Solución de problema a traves de simplex\n",
    "# se toma el vector C como negativo para encontrar el minimo de la funcion invertida, osea el máximo\n",
    "res_ex1 = linprog(-c_ex, A_ub=A, b_ub=b, bounds=bounds_ex, method='revised simplex')\n",
    "# se toma las soluciones probables del sistema \n",
    "res_ex1\n",
    "# se toma los valores enteros menores para no estar por fuera la zona\n",
    "# solucion"
   ]
  },
  {
   "cell_type": "code",
   "execution_count": 118,
   "metadata": {},
   "outputs": [
    {
     "data": {
      "text/plain": [
       "     con: array([], dtype=float64)\n",
       "     fun: -4956.0\n",
       " message: 'Optimization terminated successfully.'\n",
       "     nit: 1\n",
       "   slack: array([134.4, 246. ,   0. ,  64.2])\n",
       "  status: 0\n",
       " success: True\n",
       "       x: array([708.,   0.])"
      ]
     },
     "execution_count": 118,
     "metadata": {},
     "output_type": "execute_result"
    }
   ],
   "source": [
    "# Así pues se realiza el siguiente\n",
    "# procedimiento de optimización \n",
    "# para el sistema y función de utilidad.\n",
    "# P -> función de costo\n",
    "# coeficientes de P \n",
    "c_ex2 = np.array([7,0]) # x_1 x_2 \n",
    "# constantes de inecuaciones x_1 x_2 = 2 variables de control\n",
    "# representan 4 restricciones\n",
    "# [1] \n",
    "# [2] \n",
    "# [3] \n",
    "# [4]\n",
    "A = np.array([[7/10, 1],\n",
    "             [1/2, 5/6],\n",
    "             [1, 2/3],\n",
    "             [1/10,1/4]])\n",
    "# se cre el vector solucion de la matriz\n",
    "b = np.array([630, 600, 708, 135])\n",
    "# restricciones de variables no negativas, (no puede existir producción negativa)\n",
    "bounds_ex = [(  0,    None)]*2\n",
    "# Solución de problema a traves de simplex\n",
    "# se toma el vector C como negativo para encontrar el minimo de la funcion invertida, osea el máximo\n",
    "res_ex2 = linprog(-c_ex2, A_ub=A, b_ub=b, bounds=bounds_ex, method='revised simplex')\n",
    "# se toma las soluciones probables del sistema \n",
    "res_ex2\n",
    "# se toma los valores enteros menores para no estar por fuera la zona\n",
    "# solucion"
   ]
  },
  {
   "cell_type": "code",
   "execution_count": 119,
   "metadata": {},
   "outputs": [
    {
     "data": {
      "text/plain": [
       "     con: array([], dtype=float64)\n",
       "     fun: -4860.0\n",
       " message: 'Optimization terminated successfully.'\n",
       "     nit: 1\n",
       "   slack: array([ 90., 150., 348.,   0.])\n",
       "  status: 0\n",
       " success: True\n",
       "       x: array([  0., 540.])"
      ]
     },
     "execution_count": 119,
     "metadata": {},
     "output_type": "execute_result"
    }
   ],
   "source": [
    "# Así pues se realiza el siguiente\n",
    "# procedimiento de optimización \n",
    "# para el sistema y función de utilidad.\n",
    "# P -> función de costo\n",
    "# coeficientes de P \n",
    "c_ex3 = np.array([0,9]) # x_1 x_2 \n",
    "# constantes de inecuaciones x_1 x_2 = 2 variables de control\n",
    "# representan 4 restricciones\n",
    "# [1] \n",
    "# [2] \n",
    "# [3] \n",
    "# [4]\n",
    "A = np.array([[7/10, 1],\n",
    "             [1/2, 5/6],\n",
    "             [1, 2/3],\n",
    "             [1/10,1/4]])\n",
    "# se cre el vector solucion de la matriz\n",
    "b = np.array([630, 600, 708, 135])\n",
    "# restricciones de variables no negativas, (no puede existir producción negativa)\n",
    "bounds_ex = [(  0,    None)]*2\n",
    "# Solución de problema a traves de simplex\n",
    "# se toma el vector C como negativo para encontrar el minimo de la funcion invertida, osea el máximo\n",
    "res_ex3 = linprog(-c_ex3, A_ub=A, b_ub=b, bounds=bounds_ex, method='revised simplex')\n",
    "# se toma las soluciones probables del sistema \n",
    "# key = 'fun'\n",
    "res_ex3\n",
    "# se toma los valores enteros menores para no estar por fuera la zona\n",
    "# solucion"
   ]
  },
  {
   "cell_type": "code",
   "execution_count": 120,
   "metadata": {},
   "outputs": [],
   "source": [
    "tabla = {'Tipo':['Normal','B.Estandar','B.Deluxe'], 'Valor':[], 'Solución':[]}\n",
    "tabla['Valor'].append(res_ex1.get('x'))\n",
    "tabla['Valor'].append(res_ex2.get('x'))\n",
    "tabla['Valor'].append(res_ex3.get('x'))\n",
    "tabla['Solución'].append(-1*res_ex1.get('fun'))\n",
    "tabla['Solución'].append(-1*res_ex2.get('fun'))\n",
    "tabla['Solución'].append(-1*res_ex3.get('fun'))"
   ]
  },
  {
   "cell_type": "code",
   "execution_count": 121,
   "metadata": {},
   "outputs": [
    {
     "name": "stdout",
     "output_type": "stream",
     "text": [
      "\n",
      " Soluciones de costos (Matriz de rango completo): \n",
      "\n"
     ]
    },
    {
     "data": {
      "text/html": [
       "<div>\n",
       "<style scoped>\n",
       "    .dataframe tbody tr th:only-of-type {\n",
       "        vertical-align: middle;\n",
       "    }\n",
       "\n",
       "    .dataframe tbody tr th {\n",
       "        vertical-align: top;\n",
       "    }\n",
       "\n",
       "    .dataframe thead th {\n",
       "        text-align: right;\n",
       "    }\n",
       "</style>\n",
       "<table border=\"1\" class=\"dataframe\">\n",
       "  <thead>\n",
       "    <tr style=\"text-align: right;\">\n",
       "      <th></th>\n",
       "      <th>Tipo</th>\n",
       "      <th>Valor</th>\n",
       "      <th>Solución</th>\n",
       "    </tr>\n",
       "  </thead>\n",
       "  <tbody>\n",
       "    <tr>\n",
       "      <th>0</th>\n",
       "      <td>Normal</td>\n",
       "      <td>[539.9999999999999, 252.0000000000001]</td>\n",
       "      <td>6048.0</td>\n",
       "    </tr>\n",
       "    <tr>\n",
       "      <th>1</th>\n",
       "      <td>B.Estandar</td>\n",
       "      <td>[708.0, 0.0]</td>\n",
       "      <td>4956.0</td>\n",
       "    </tr>\n",
       "    <tr>\n",
       "      <th>2</th>\n",
       "      <td>B.Deluxe</td>\n",
       "      <td>[0.0, 540.0]</td>\n",
       "      <td>4860.0</td>\n",
       "    </tr>\n",
       "  </tbody>\n",
       "</table>\n",
       "</div>"
      ],
      "text/plain": [
       "         Tipo                                   Valor  Solución\n",
       "0      Normal  [539.9999999999999, 252.0000000000001]    6048.0\n",
       "1  B.Estandar                            [708.0, 0.0]    4956.0\n",
       "2    B.Deluxe                            [0.0, 540.0]    4860.0"
      ]
     },
     "metadata": {},
     "output_type": "display_data"
    }
   ],
   "source": [
    "pd.set_option('max_colwidth',75)\n",
    "df_sol = pd.DataFrame(tabla)\n",
    "print('\\n Soluciones de costos (Matriz de rango completo): \\n')\n",
    "display(df_sol)"
   ]
  },
  {
   "cell_type": "markdown",
   "metadata": {},
   "source": [
    "> Para el Dual tenemos el siguiente planteamiento:\n",
    "$$\\max 630y_1 + 600y_2 + 708y_3 + 135y_4 = G(y_1, y_2, y_3, y_4)$$\n",
    "> Sujeto a las siguientes restricciones\n",
    "- S.A\n",
    "$$\\frac{7}{10}y_{1} + \\frac{1}{2}y_{2} + y_3 + \\frac{1}{10}y_{4}\\leq -7$$\n",
    "$$y_{1} + \\frac{5}{6}y_{2} + \\frac{2}{3}y_3 + \\frac{1}{4}y_{4}\\leq -9$$\n",
    "> En forma estandar \n",
    "$$-\\frac{7}{10}y_{1} + -\\frac{1}{2}y_{2} + y_3 + -\\frac{1}{10}y_{4}\\geq 7$$\n",
    "$$-y_{1} + -\\frac{5}{6}y_{2} + -\\frac{2}{3}y_3 + -\\frac{1}{4}y_{4}\\geq 9$$\n",
    "> Donde lo que se busca para este problema $\\textit{a}$ es aumentar la utilidad de la bolsa deluxe a \\$ 18, por lo que modificaria las restricciones de la siguiente manera:\n",
    "- S.A\n",
    "$$\\frac{7}{10}y_{1} + \\frac{1}{2}y_{2} + y_3 + \\frac{1}{10}y_{4}\\leq 7$$\n",
    "$$y_{1} + \\frac{5}{6}y_{2} + \\frac{2}{3}y_3 + \\frac{1}{4}y_{4}\\leq 18$$\n",
    "> Donde lo que se busca para este problema $\\textit{b}$ es aumentar la utilidad de la bolsa deluxe a \\$ 18, por lo que modificaria las restricciones de la siguiente manera:\n",
    "- S.A\n",
    "$$\\frac{7}{10}y_{1} + \\frac{1}{2}y_{2} + y_3 + \\frac{1}{10}y_{4}\\leq 14$$\n",
    "$$y_{1} + \\frac{5}{6}y_{2} + \\frac{2}{3}y_3 + \\frac{1}{4}y_{4}\\leq 9$$\n",
    "> Donde lo que se busca para este problema $\\textit{c}$ es aumentar la utilidad de la bolsa deluxe a \\$ 18, por lo que modificaria la función de costo de la siguiente manera:\n",
    "$$1.7*[630y_1 + 600y_2 + 708y_3 + 135y_4] = P(y_1, y_2, y_3, y_4)$$\n"
   ]
  },
  {
   "cell_type": "code",
   "execution_count": 186,
   "metadata": {},
   "outputs": [
    {
     "data": {
      "text/plain": [
       "     con: array([], dtype=float64)\n",
       "     fun: 6048.0\n",
       " message: 'Optimization terminated successfully.'\n",
       "     nit: 3\n",
       "   slack: array([0., 0.])\n",
       "  status: 0\n",
       " success: True\n",
       "       x: array([8.125 , 0.    , 1.3125, 0.    ])"
      ]
     },
     "execution_count": 186,
     "metadata": {},
     "output_type": "execute_result"
    }
   ],
   "source": [
    "# Solución de problema DUAL\n",
    "res_ex4 = linprog(b, np.transpose(-A), -c_ex, method='revised simplex')\n",
    "# se toma las soluciones probables del sistema \n",
    "# key = 'fun'\n",
    "res_ex4\n",
    "# se toma los valores enteros menores para no estar por fuera la zona\n",
    "# solucion"
   ]
  },
  {
   "cell_type": "markdown",
   "metadata": {},
   "source": [
    "> En este caso nuevo caso se busca aumentar la contribución total de G&L a $18, mientras que el modo estándar si continua con una utilidad de $7."
   ]
  },
  {
   "cell_type": "code",
   "execution_count": 195,
   "metadata": {},
   "outputs": [
    {
     "data": {
      "text/plain": [
       "     con: array([], dtype=float64)\n",
       "     fun: 9720.0\n",
       " message: 'Optimization terminated successfully.'\n",
       "     nit: 3\n",
       "   slack: array([0.2, 0. ])\n",
       "  status: 0\n",
       " success: True\n",
       "       x: array([ 0.,  0.,  0., 72.])"
      ]
     },
     "execution_count": 195,
     "metadata": {},
     "output_type": "execute_result"
    }
   ],
   "source": [
    "# Solución de problema DUAL\n",
    "c_new1 = np.array([7,18])\n",
    "res_ex5 = linprog(b, np.transpose(-A), -c_new1, method='revised simplex')\n",
    "# se toma las soluciones probables del sistema \n",
    "# key = 'fun'\n",
    "res_ex5\n",
    "# se toma los valores enteros menores para no estar por fuera la zona\n",
    "# solucion"
   ]
  },
  {
   "cell_type": "markdown",
   "metadata": {},
   "source": [
    "> También, se empleará una materia prima de e bajo costo para la fabricación del modelo estándar para que se pueda incrementar su utilidad por bolsa a $14, para este caso la utilidad por bolsa del modelo Deluxe permanecerá en $9. "
   ]
  },
  {
   "cell_type": "code",
   "execution_count": 196,
   "metadata": {},
   "outputs": [
    {
     "data": {
      "text/plain": [
       "     con: array([], dtype=float64)\n",
       "     fun: 9911.999999999998\n",
       " message: 'Optimization terminated successfully.'\n",
       "     nit: 3\n",
       "   slack: array([-1.77635684e-15,  3.33333333e-01])\n",
       "  status: 0\n",
       " success: True\n",
       "       x: array([ 0.,  0., 14.,  0.])"
      ]
     },
     "execution_count": 196,
     "metadata": {},
     "output_type": "execute_result"
    }
   ],
   "source": [
    "# Solución de problema DUAL\n",
    "c_new2 = np.array([14,9])\n",
    "res_ex6 = linprog(b, np.transpose(-A), -c_new2, method='revised simplex')\n",
    "# se toma las soluciones probables del sistema \n",
    "# key = 'fun'\n",
    "res_ex6\n",
    "# se toma los valores enteros menores para no estar por fuera la zona\n",
    "# solucion"
   ]
  },
  {
   "cell_type": "markdown",
   "metadata": {},
   "source": [
    "> Finalmente se adquiere más personal en el equipo de trabajo para aumentar las horas de trabajo disponible en un 70%."
   ]
  },
  {
   "cell_type": "code",
   "execution_count": 204,
   "metadata": {},
   "outputs": [
    {
     "data": {
      "text/plain": [
       "     con: array([], dtype=float64)\n",
       "     fun: 10281.6\n",
       " message: 'Optimization terminated successfully.'\n",
       "     nit: 3\n",
       "   slack: array([0., 0.])\n",
       "  status: 0\n",
       " success: True\n",
       "       x: array([8.125 , 0.    , 1.3125, 0.    ])"
      ]
     },
     "execution_count": 204,
     "metadata": {},
     "output_type": "execute_result"
    }
   ],
   "source": [
    "# Solución de problema DUAL\n",
    "res_ex7 = linprog(1.7*b, np.transpose(-A), -c_ex, method='revised simplex')\n",
    "# se toma las soluciones probables del sistema \n",
    "# key = 'fun'\n",
    "res_ex7\n",
    "# se toma los valores enteros menores para no estar por fuera la zona\n",
    "# solucion"
   ]
  },
  {
   "cell_type": "markdown",
   "metadata": {},
   "source": [
    "> Al problema primal que se muestra a continuación se le busca implementar por medio de Python una solución a dicho problema primal y dual; de forma que, por medio de las ecuaciones de holgura complementaria, se puedan encontrar la cantidad de bolsas a fabricar tanto de modo estándar como como Deluxe."
   ]
  },
  {
   "cell_type": "code",
   "execution_count": 286,
   "metadata": {},
   "outputs": [],
   "source": [
    "def sol_hol_comp(A, b , f, res, dict, costos = np.array([7,9])):\n",
    "    flag = False\n",
    "    pos = []\n",
    "    res_x = np.array([res])\n",
    "    # B = np.matmul(np.transpose(f),A)\n",
    "    c = np.matmul(np.transpose(f),b)\n",
    "    if c == res:\n",
    "        flag = True\n",
    "    dict['Cumple'].append(flag)\n",
    "    for i in range(len(f)):\n",
    "        if f[i] == 0:\n",
    "            pos.append(i)\n",
    "    dict['Restricción(Inactivas)'].append(pos)\n",
    "    if len(pos) <= len(A[0,:]):\n",
    "        An = np.delete(A,(pos), axis = 0)\n",
    "        bn = np.delete(b,(pos))\n",
    "        sol = solve(An,bn)\n",
    "    else:\n",
    "        An = np.delete(A,(pos), axis = 0)\n",
    "        An = np.vstack([An, costos])\n",
    "        bn = np.delete(b,(pos))\n",
    "        bn = np.concatenate((bn,res_x))\n",
    "        sol = solve(An,bn)\n",
    "    dict['Solución'].append(sol)\n",
    "    return dict"
   ]
  },
  {
   "cell_type": "markdown",
   "metadata": {},
   "source": [
    "> Se crea un diccionario para graficar los datos"
   ]
  },
  {
   "cell_type": "code",
   "execution_count": 287,
   "metadata": {},
   "outputs": [],
   "source": [
    "if __name__ == \"__main__\":\n",
    "    dict = {'Cumple':[],'Restricción(Inactivas)':[],'Solución':[]}\n",
    "    h1 = sol_hol_comp(A1, b1, res_ex4.get('x'), res_ex4.get('fun'), dict)\n",
    "    h2 = sol_hol_comp(A1, b1, res_ex5.get('x'), res_ex5.get('fun'), h1)\n",
    "    h3 = sol_hol_comp(A1, b1, res_ex6.get('x'), res_ex6.get('fun'), h2)\n",
    "    h4 = sol_hol_comp(A1, b1*1.7, res_ex7.get('x'), res_ex7.get('fun'), h3)"
   ]
  },
  {
   "cell_type": "code",
   "execution_count": 310,
   "metadata": {},
   "outputs": [
    {
     "name": "stdout",
     "output_type": "stream",
     "text": [
      "\n",
      " Soluciones según el Dual: \n",
      "\n"
     ]
    },
    {
     "data": {
      "text/html": [
       "<div>\n",
       "<style scoped>\n",
       "    .dataframe tbody tr th:only-of-type {\n",
       "        vertical-align: middle;\n",
       "    }\n",
       "\n",
       "    .dataframe tbody tr th {\n",
       "        vertical-align: top;\n",
       "    }\n",
       "\n",
       "    .dataframe thead th {\n",
       "        text-align: right;\n",
       "    }\n",
       "</style>\n",
       "<table border=\"1\" class=\"dataframe\">\n",
       "  <thead>\n",
       "    <tr style=\"text-align: center;\">\n",
       "      <th></th>\n",
       "      <th>Cumple</th>\n",
       "      <th>Restricción(Inactivas)</th>\n",
       "      <th>Solución</th>\n",
       "    </tr>\n",
       "  </thead>\n",
       "  <tbody>\n",
       "    <tr>\n",
       "      <th>0</th>\n",
       "      <td>True</td>\n",
       "      <td>[1, 3]</td>\n",
       "      <td>[540.0, 252.00000000000003]</td>\n",
       "    </tr>\n",
       "    <tr>\n",
       "      <th>1</th>\n",
       "      <td>True</td>\n",
       "      <td>[0, 1, 2]</td>\n",
       "      <td>[1429.4117647058824, -31.76470588235297]</td>\n",
       "    </tr>\n",
       "    <tr>\n",
       "      <th>2</th>\n",
       "      <td>True</td>\n",
       "      <td>[0, 1, 3]</td>\n",
       "      <td>[-54.46153846153824, 1143.6923076923074]</td>\n",
       "    </tr>\n",
       "    <tr>\n",
       "      <th>3</th>\n",
       "      <td>True</td>\n",
       "      <td>[1, 3]</td>\n",
       "      <td>[917.9999999999998, 428.40000000000015]</td>\n",
       "    </tr>\n",
       "  </tbody>\n",
       "</table>\n",
       "</div>"
      ],
      "text/plain": [
       "   Cumple Restricción(Inactivas)                  Solución                \n",
       "0   True            [1, 3]                     [540.0, 252.00000000000003]\n",
       "1   True         [0, 1, 2]        [1429.4117647058824, -31.76470588235297]\n",
       "2   True         [0, 1, 3]        [-54.46153846153824, 1143.6923076923074]\n",
       "3   True            [1, 3]         [917.9999999999998, 428.40000000000015]"
      ]
     },
     "metadata": {},
     "output_type": "display_data"
    }
   ],
   "source": [
    "pd.set_option('max_colwidth',75)\n",
    "df_sol = pd.DataFrame(h4)\n",
    "print('\\n Soluciones según el Dual: \\n')\n",
    "display(df_sol)"
   ]
  },
  {
   "cell_type": "markdown",
   "metadata": {},
   "source": [
    "> Como podemos ver en la tabla anterior la única solución factible es la ultima, ya que, tiene soluciones basicas no negativas, maximizando la utilidad de la función de costo de la siguiente forma:\n",
    "$$(|1-\\frac{10281.6}{6048.0}|)*100\\%=70\\%$$\n",
    "> Tuvo un aumento del 70\\% en la función de costo."
   ]
  }
 ],
 "metadata": {
  "kernelspec": {
   "display_name": "Python 3.8.10 64-bit",
   "language": "python",
   "name": "python3"
  },
  "language_info": {
   "codemirror_mode": {
    "name": "ipython",
    "version": 3
   },
   "file_extension": ".py",
   "mimetype": "text/x-python",
   "name": "python",
   "nbconvert_exporter": "python",
   "pygments_lexer": "ipython3",
   "version": "3.8.10"
  },
  "orig_nbformat": 4,
  "vscode": {
   "interpreter": {
    "hash": "8d19b764d49e1dcc271e9a882564bf910ed3916f9785cce1f7e4046018fe4dea"
   }
  }
 },
 "nbformat": 4,
 "nbformat_minor": 2
}
