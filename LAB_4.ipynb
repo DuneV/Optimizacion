{
 "cells": [
  {
   "cell_type": "markdown",
   "metadata": {},
   "source": [
    "# Laboratorio Optimización No. 4"
   ]
  },
  {
   "cell_type": "markdown",
   "metadata": {},
   "source": [
    "> Daniel Alvarez - 201911320  \n",
    "Maria Vieda - 201923359"
   ]
  },
  {
   "cell_type": "markdown",
   "metadata": {},
   "source": [
    "- Importación de librerias"
   ]
  },
  {
   "cell_type": "code",
   "execution_count": 1,
   "metadata": {},
   "outputs": [],
   "source": [
    "import numpy as np\n",
    "from scipy.linalg import solve\n",
    "from itertools import combinations\n",
    "import pandas as pd\n",
    "from IPython.display import display\n",
    "from scipy.optimize import linprog, minimize\n",
    "import time"
   ]
  },
  {
   "cell_type": "markdown",
   "metadata": {},
   "source": [
    "- Funciones Recursivas"
   ]
  },
  {
   "cell_type": "markdown",
   "metadata": {},
   "source": [
    "> Se realiza una función de truncamiento para encontrar cual es el error de aproximación entre la razon de redondeo de las soluciones,  \n",
    "ya que, algunas de estas componen valores similares pero no iguales."
   ]
  },
  {
   "cell_type": "code",
   "execution_count": 13,
   "metadata": {},
   "outputs": [],
   "source": [
    "def truncate(n, decimals=0):\n",
    "    # have the specific quantity of the decimals\n",
    "    multiplier = 10 ** decimals\n",
    "    return int(n * multiplier) / multiplier"
   ]
  },
  {
   "cell_type": "markdown",
   "metadata": {},
   "source": [
    "> Se plantea el desarrollo de una funcion de limpieza para el diccionario que elimine las posibles soluciones repetidas del diccionario,  \n",
    "sin embargo, para la función usada solver, no acota las soluciones a un valor proximo por lo que se veran soluciones donde se tiende a cero  \n",
    "derecha y por izquierda como no iguales."
   ]
  },
  {
   "cell_type": "code",
   "execution_count": 14,
   "metadata": {},
   "outputs": [],
   "source": [
    "def remover_duplicados(objetos):\n",
    "    resultado = {}\n",
    "    for k, v in objetos.items():\n",
    "        if v not in resultado.values():\n",
    "            resultado[k] = v\n",
    "    return resultado"
   ]
  },
  {
   "cell_type": "markdown",
   "metadata": {},
   "source": [
    "> Se crea una función de paso que me entregue el vector de la fila n, por lo tanto, al tener 1 en su diagonal es equivalente a tener  \n",
    "un vector de la forma:\n",
    "$$x = [x_{1},x_{2},...,x_{n}]$$\n",
    ">Donde\n",
    "$$x_{i} = 0\\;\\; i\\neq n$$ "
   ]
  },
  {
   "cell_type": "code",
   "execution_count": 35,
   "metadata": {},
   "outputs": [],
   "source": [
    "def vector_base(d,n):\n",
    "    # v2 vector of zeros to fill  \n",
    "    v2 = np.zeros(d)\n",
    "    # v1 vector of ones to get the identity vector\n",
    "    v1 = np.ones(d)\n",
    "    for i in range(len(v2)):\n",
    "        if i == n:\n",
    "            v2[i] = v1[i]\n",
    "    return v2 "
   ]
  },
  {
   "cell_type": "markdown",
   "metadata": {},
   "source": [
    "- Punto 1"
   ]
  },
  {
   "cell_type": "markdown",
   "metadata": {},
   "source": [
    "> Para el desarrollo del primer punto se nos solicita construir una función que reciba como parametros una matriz A, con n variables libres  \n",
    "con la restricción:\n",
    "$$n>m$$\n",
    ">Donde existen variables $s_{1}$, $s_{2}$, ..., $s_{n}$ que se comportan como variables de holguras o variables libres para este sistema, se plantea como un algoritmo que encuentre todas las soluciones basicas sean óptimas o no, sin importar los valores de $x_{i}$, para esto se extraen las posibles combinaciones de que m-n variables sean cero, actuando como un sistema cerrado, por lo que, se acotan las soluciones de las matrices con:\n",
    "$$det(A)\\neq 0$$\n",
    "> Pudiendo obtener las soluciones del sistema:\n",
    "$$Ax=b$$\n",
    ">Donde A es una matriz cuadrada en cada iteración de la combinatoria.  \n",
    "> Para encontrar la primera matriz tomando como ejemplo la iteración $x_{1}$=$x_{2}$=0, para el sistema, pudiendo tener una matriz de 3x3,  \n",
    "donde la solución se puede encontrar de diferentes formas, aparte para encontrar las bases se realizo la misma operación expresada como:\n",
    "$$Ib_{2}=x$$\n",
    "> Donde I es la matriz identidad y x es nuestro vector solución del sistema Ax =b."
   ]
  },
  {
   "cell_type": "code",
   "execution_count": 161,
   "metadata": {},
   "outputs": [],
   "source": [
    "def sol_basicas(A,b):\n",
    "    # get columns and rows\n",
    "    f, c = A.shape\n",
    "    fv = c - f\n",
    "    print(A)\n",
    "    print(b)\n",
    "    # get all the combinations of the matrix with c-f fv (free variables)\n",
    "    comb = combinations(range(c), c-f)\n",
    "    # create the dictionary\n",
    "    dire = {'Solucion':[], 'Base':[]}\n",
    "    # create the combinations of the basic variables\n",
    "    c_s = set(np.array(range(c)))\n",
    "    # get the matrix of A\n",
    "    # build the base\n",
    "    for i in list(comb):\n",
    "        no_b = set(i)\n",
    "        c_m = c_s^no_b\n",
    "        # we obtain the matrix of the combination iteration\n",
    "        B = A[:, list(c_m)]\n",
    "        # create a vector of zeros with c positions\n",
    "        sol = np.zeros(c)\n",
    "        # same\n",
    "        base = sol\n",
    "        # same\n",
    "        no_base = sol\n",
    "        # we get the identity to found the bases of the solution\n",
    "        m = np.identity(c-fv)\n",
    "        # we get the identity to get the real bases in terms of c positions\n",
    "        m2 = np.identity(c)\n",
    "        # we get an identify of cxc to multplicate \n",
    "        iden = np.identity(c)\n",
    "        # we condition that the matrix B have solution\n",
    "        if np.linalg.det(B) != 0:\n",
    "            # use solve to the system Bx=b\n",
    "            x = solve(B, b)\n",
    "            # use solve to the system Ico=x to get the bases\n",
    "            co = solve(m,x)\n",
    "            # x = x.astype(int)\n",
    "            for j in range(c-fv):\n",
    "                valor = list(c_m)[j]\n",
    "                sol[valor] = round(x[j],3)\n",
    "                base[valor] = round(co[j],3)\n",
    "                for k in range(c):\n",
    "                    if k != valor:\n",
    "                        m2[:,k] = no_base\n",
    "                #  print(m2)\n",
    "            dire['Solucion'].append(sol)\n",
    "            dire['Base'].append(m2*iden)\n",
    "    return dire"
   ]
  },
  {
   "cell_type": "markdown",
   "metadata": {},
   "source": [
    "> Definimos las matrices $A_{1}$ y $A_{2}$, junto con el vector b que se aplicaran a la funcion para encontrar las soluciones basicas del problema de PL."
   ]
  },
  {
   "cell_type": "code",
   "execution_count": 128,
   "metadata": {},
   "outputs": [],
   "source": [
    "# vectors of prove\n",
    "# A is a matrix\n",
    "A1 = np.array([[1, 1, 1, 1, 1],\n",
    "             [1, 2, 3, 4, 5],\n",
    "             [4, 3, 3, 3, 4]])\n",
    "# A2 is a matrix of /\n",
    "A2 = np.array([[1, 1, 1, 1, 1],\n",
    "               [1, 2, 3, 4, 5],\n",
    "               [2, 3, 4, 5, 6]])\n",
    "# b is the vector result\n",
    "b = np.array([1, 2, 3])"
   ]
  },
  {
   "cell_type": "markdown",
   "metadata": {},
   "source": [
    "> Realizamos la prueba para la matriz $A_{1}$."
   ]
  },
  {
   "cell_type": "code",
   "execution_count": 131,
   "metadata": {},
   "outputs": [
    {
     "name": "stdout",
     "output_type": "stream",
     "text": [
      "{'Solucion': [array([ 0.,  0.,  2., -1., -0.]), array([ 0.,  1.,  0.,  0., -0.]), array([ 0.,  1.,  0.,  0., -0.]), array([ 0.5,  0. ,  0. ,  1. , -0.5]), array([ 0.25,  0.  ,  1.  ,  0.  , -0.25]), array([ 0.,  0.,  2., -1.,  0.]), array([ 0.,  1.,  0.,  0., -0.]), array([ 0.,  1.,  0., -0.,  0.]), array([ 0.,  1., -0.,  0.,  0.])], 'Base': [array([[ 0.,  0.,  0.,  0.,  0.],\n",
      "       [ 0.,  0.,  0.,  0.,  0.],\n",
      "       [ 0.,  0.,  2.,  0.,  0.],\n",
      "       [-0., -0., -0., -1., -0.],\n",
      "       [-0., -0., -0., -0.,  0.]]), array([[ 0.,  0.,  0.,  0.,  0.],\n",
      "       [ 0.,  1.,  0.,  0.,  0.],\n",
      "       [ 0.,  0.,  0.,  0.,  0.],\n",
      "       [ 0.,  0.,  0.,  0.,  0.],\n",
      "       [-0., -0., -0., -0.,  0.]]), array([[ 0.,  0.,  0.,  0.,  0.],\n",
      "       [ 0.,  1.,  0.,  0.,  0.],\n",
      "       [ 0.,  0.,  0.,  0.,  0.],\n",
      "       [ 0.,  0.,  0.,  0.,  0.],\n",
      "       [-0., -0., -0., -0.,  0.]]), array([[ 0.5,  0. ,  0. ,  0. ,  0. ],\n",
      "       [ 0. ,  0. ,  0. ,  0. ,  0. ],\n",
      "       [ 0. ,  0. ,  0. ,  0. ,  0. ],\n",
      "       [ 0. ,  0. ,  0. ,  1. ,  0. ],\n",
      "       [-0. , -0. , -0. , -0. ,  0. ]]), array([[ 0.25,  0.  ,  0.  ,  0.  ,  0.  ],\n",
      "       [ 0.  ,  0.  ,  0.  ,  0.  ,  0.  ],\n",
      "       [ 0.  ,  0.  ,  1.  ,  0.  ,  0.  ],\n",
      "       [ 0.  ,  0.  ,  0.  ,  0.  ,  0.  ],\n",
      "       [-0.  , -0.  , -0.  , -0.  ,  0.  ]]), array([[ 0.,  0.,  0.,  0.,  0.],\n",
      "       [ 0.,  0.,  0.,  0.,  0.],\n",
      "       [ 0.,  0.,  2.,  0.,  0.],\n",
      "       [-0., -0., -0.,  0., -0.],\n",
      "       [ 0.,  0.,  0.,  0.,  0.]]), array([[ 0.,  0.,  0.,  0.,  0.],\n",
      "       [ 0.,  1.,  0.,  0.,  0.],\n",
      "       [ 0.,  0.,  0.,  0.,  0.],\n",
      "       [ 0.,  0.,  0.,  0.,  0.],\n",
      "       [-0., -0., -0., -0.,  0.]]), array([[ 0.,  0.,  0.,  0.,  0.],\n",
      "       [ 0.,  1.,  0.,  0.,  0.],\n",
      "       [ 0.,  0.,  0.,  0.,  0.],\n",
      "       [-0., -0., -0.,  0., -0.],\n",
      "       [ 0.,  0.,  0.,  0.,  0.]]), array([[ 0.,  0.,  0.,  0.,  0.],\n",
      "       [ 0.,  1.,  0.,  0.,  0.],\n",
      "       [-0., -0.,  0., -0., -0.],\n",
      "       [ 0.,  0.,  0.,  0.,  0.],\n",
      "       [ 0.,  0.,  0.,  0.,  0.]])]}\n"
     ]
    }
   ],
   "source": [
    "prueba = sol_basicas(A1,b)\n",
    "print(prueba)"
   ]
  },
  {
   "cell_type": "markdown",
   "metadata": {},
   "source": [
    "> Realizamos la prueba para la matriz $A_{2}$  \n",
    "Nota: Tomemos en cuenta que para este sistema, al ser una matriz de rango deficiente \n",
    "solver no representa la función más correcta para hacer la aproximación de la solución por lo tanto obtenemos una advertencia."
   ]
  },
  {
   "cell_type": "code",
   "execution_count": 129,
   "metadata": {},
   "outputs": [
    {
     "name": "stdout",
     "output_type": "stream",
     "text": [
      "{'Solucion': [array([ 0.,  1.,  0.,  0., -0.]), array([ 0.,  1.,  0.,  0., -0.])], 'Base': [array([[ 0.,  0.,  0.,  0.,  0.],\n",
      "       [ 0.,  1.,  0.,  0.,  0.],\n",
      "       [ 0.,  0.,  0.,  0.,  0.],\n",
      "       [ 0.,  0.,  0.,  0.,  0.],\n",
      "       [-0., -0., -0., -0.,  0.]]), array([[ 0.,  0.,  0.,  0.,  0.],\n",
      "       [ 0.,  1.,  0.,  0.,  0.],\n",
      "       [ 0.,  0.,  0.,  0.,  0.],\n",
      "       [ 0.,  0.,  0.,  0.,  0.],\n",
      "       [-0., -0., -0., -0.,  0.]])]}\n"
     ]
    },
    {
     "name": "stderr",
     "output_type": "stream",
     "text": [
      "C:\\Users\\danie\\AppData\\Local\\Temp\\ipykernel_10228\\1600866937.py:26: LinAlgWarning: Ill-conditioned matrix (rcond=1.85037e-17): result may not be accurate.\n",
      "  x = solve(B, b)\n",
      "C:\\Users\\danie\\AppData\\Local\\Temp\\ipykernel_10228\\1600866937.py:26: LinAlgWarning: Ill-conditioned matrix (rcond=9.25186e-18): result may not be accurate.\n",
      "  x = solve(B, b)\n"
     ]
    }
   ],
   "source": [
    "prueba2 = sol_basicas(A2,b)\n",
    "print(prueba2)"
   ]
  },
  {
   "cell_type": "code",
   "execution_count": 133,
   "metadata": {},
   "outputs": [
    {
     "name": "stdout",
     "output_type": "stream",
     "text": [
      "\n",
      " Soluciones básicas (Matriz de rango completo): \n",
      "\n"
     ]
    },
    {
     "name": "stderr",
     "output_type": "stream",
     "text": [
      "C:\\Users\\danie\\AppData\\Local\\Temp\\ipykernel_10228\\4000819965.py:24: LinAlgWarning: Ill-conditioned matrix (rcond=1.85037e-17): result may not be accurate.\n",
      "  x = solve(B, b)\n",
      "C:\\Users\\danie\\AppData\\Local\\Temp\\ipykernel_10228\\4000819965.py:24: LinAlgWarning: Ill-conditioned matrix (rcond=9.25186e-18): result may not be accurate.\n",
      "  x = solve(B, b)\n"
     ]
    },
    {
     "data": {
      "text/html": [
       "<div>\n",
       "<style scoped>\n",
       "    .dataframe tbody tr th:only-of-type {\n",
       "        vertical-align: middle;\n",
       "    }\n",
       "\n",
       "    .dataframe tbody tr th {\n",
       "        vertical-align: top;\n",
       "    }\n",
       "\n",
       "    .dataframe thead th {\n",
       "        text-align: right;\n",
       "    }\n",
       "</style>\n",
       "<table border=\"1\" class=\"dataframe\">\n",
       "  <thead>\n",
       "    <tr style=\"text-align: right;\">\n",
       "      <th></th>\n",
       "      <th>Solucion</th>\n",
       "      <th>Base</th>\n",
       "    </tr>\n",
       "  </thead>\n",
       "  <tbody>\n",
       "    <tr>\n",
       "      <th>0</th>\n",
       "      <td>[0.0, 1.0, 0.0, 0.0, -0.0]</td>\n",
       "      <td>[[0.0, 0.0, 0.0, 0.0, 0.0], [0.0, 1.0, 0.0, 0.0, 0.0], [0.0, 0.0, 0.0, ...</td>\n",
       "    </tr>\n",
       "    <tr>\n",
       "      <th>1</th>\n",
       "      <td>[0.0, 1.0, 0.0, 0.0, -0.0]</td>\n",
       "      <td>[[0.0, 0.0, 0.0, 0.0, 0.0], [0.0, 1.0, 0.0, 0.0, 0.0], [0.0, 0.0, 0.0, ...</td>\n",
       "    </tr>\n",
       "  </tbody>\n",
       "</table>\n",
       "</div>"
      ],
      "text/plain": [
       "                     Solucion  \\\n",
       "0  [0.0, 1.0, 0.0, 0.0, -0.0]   \n",
       "1  [0.0, 1.0, 0.0, 0.0, -0.0]   \n",
       "\n",
       "                                                                         Base  \n",
       "0  [[0.0, 0.0, 0.0, 0.0, 0.0], [0.0, 1.0, 0.0, 0.0, 0.0], [0.0, 0.0, 0.0, ...  \n",
       "1  [[0.0, 0.0, 0.0, 0.0, 0.0], [0.0, 1.0, 0.0, 0.0, 0.0], [0.0, 0.0, 0.0, ...  "
      ]
     },
     "metadata": {},
     "output_type": "display_data"
    }
   ],
   "source": [
    "pd.set_option('max_colwidth',75)\n",
    "sol = sol_basicas(A2,b)\n",
    "df_sol = pd.DataFrame(sol)\n",
    "print('\\n Soluciones básicas (Matriz de rango completo): \\n')\n",
    "display(df_sol)"
   ]
  },
  {
   "cell_type": "code",
   "execution_count": 134,
   "metadata": {},
   "outputs": [
    {
     "name": "stdout",
     "output_type": "stream",
     "text": [
      "\n",
      " Soluciones básicas (Matriz de rango completo): \n",
      "\n"
     ]
    },
    {
     "data": {
      "text/html": [
       "<div>\n",
       "<style scoped>\n",
       "    .dataframe tbody tr th:only-of-type {\n",
       "        vertical-align: middle;\n",
       "    }\n",
       "\n",
       "    .dataframe tbody tr th {\n",
       "        vertical-align: top;\n",
       "    }\n",
       "\n",
       "    .dataframe thead th {\n",
       "        text-align: right;\n",
       "    }\n",
       "</style>\n",
       "<table border=\"1\" class=\"dataframe\">\n",
       "  <thead>\n",
       "    <tr style=\"text-align: right;\">\n",
       "      <th></th>\n",
       "      <th>Solucion</th>\n",
       "      <th>Base</th>\n",
       "    </tr>\n",
       "  </thead>\n",
       "  <tbody>\n",
       "    <tr>\n",
       "      <th>0</th>\n",
       "      <td>[0.0, 0.0, 2.0, -1.0, -0.0]</td>\n",
       "      <td>[[0.0, 0.0, 0.0, 0.0, 0.0], [0.0, 0.0, 0.0, 0.0, 0.0], [0.0, 0.0, 2.0, ...</td>\n",
       "    </tr>\n",
       "    <tr>\n",
       "      <th>1</th>\n",
       "      <td>[0.0, 1.0, 0.0, 0.0, -0.0]</td>\n",
       "      <td>[[0.0, 0.0, 0.0, 0.0, 0.0], [0.0, 1.0, 0.0, 0.0, 0.0], [0.0, 0.0, 0.0, ...</td>\n",
       "    </tr>\n",
       "    <tr>\n",
       "      <th>2</th>\n",
       "      <td>[0.0, 1.0, 0.0, 0.0, -0.0]</td>\n",
       "      <td>[[0.0, 0.0, 0.0, 0.0, 0.0], [0.0, 1.0, 0.0, 0.0, 0.0], [0.0, 0.0, 0.0, ...</td>\n",
       "    </tr>\n",
       "    <tr>\n",
       "      <th>3</th>\n",
       "      <td>[0.5, 0.0, 0.0, 1.0, -0.5]</td>\n",
       "      <td>[[0.5, 0.0, 0.0, 0.0, 0.0], [0.0, 0.0, 0.0, 0.0, 0.0], [0.0, 0.0, 0.0, ...</td>\n",
       "    </tr>\n",
       "    <tr>\n",
       "      <th>4</th>\n",
       "      <td>[0.25, 0.0, 1.0, 0.0, -0.25]</td>\n",
       "      <td>[[0.25, 0.0, 0.0, 0.0, 0.0], [0.0, 0.0, 0.0, 0.0, 0.0], [0.0, 0.0, 1.0,...</td>\n",
       "    </tr>\n",
       "    <tr>\n",
       "      <th>5</th>\n",
       "      <td>[0.0, 0.0, 2.0, -1.0, 0.0]</td>\n",
       "      <td>[[0.0, 0.0, 0.0, 0.0, 0.0], [0.0, 0.0, 0.0, 0.0, 0.0], [0.0, 0.0, 2.0, ...</td>\n",
       "    </tr>\n",
       "    <tr>\n",
       "      <th>6</th>\n",
       "      <td>[0.0, 1.0, 0.0, 0.0, -0.0]</td>\n",
       "      <td>[[0.0, 0.0, 0.0, 0.0, 0.0], [0.0, 1.0, 0.0, 0.0, 0.0], [0.0, 0.0, 0.0, ...</td>\n",
       "    </tr>\n",
       "    <tr>\n",
       "      <th>7</th>\n",
       "      <td>[0.0, 1.0, 0.0, -0.0, 0.0]</td>\n",
       "      <td>[[0.0, 0.0, 0.0, 0.0, 0.0], [0.0, 1.0, 0.0, 0.0, 0.0], [0.0, 0.0, 0.0, ...</td>\n",
       "    </tr>\n",
       "    <tr>\n",
       "      <th>8</th>\n",
       "      <td>[0.0, 1.0, -0.0, 0.0, 0.0]</td>\n",
       "      <td>[[0.0, 0.0, 0.0, 0.0, 0.0], [0.0, 1.0, 0.0, 0.0, 0.0], [-0.0, -0.0, 0.0...</td>\n",
       "    </tr>\n",
       "  </tbody>\n",
       "</table>\n",
       "</div>"
      ],
      "text/plain": [
       "                       Solucion  \\\n",
       "0   [0.0, 0.0, 2.0, -1.0, -0.0]   \n",
       "1    [0.0, 1.0, 0.0, 0.0, -0.0]   \n",
       "2    [0.0, 1.0, 0.0, 0.0, -0.0]   \n",
       "3    [0.5, 0.0, 0.0, 1.0, -0.5]   \n",
       "4  [0.25, 0.0, 1.0, 0.0, -0.25]   \n",
       "5    [0.0, 0.0, 2.0, -1.0, 0.0]   \n",
       "6    [0.0, 1.0, 0.0, 0.0, -0.0]   \n",
       "7    [0.0, 1.0, 0.0, -0.0, 0.0]   \n",
       "8    [0.0, 1.0, -0.0, 0.0, 0.0]   \n",
       "\n",
       "                                                                         Base  \n",
       "0  [[0.0, 0.0, 0.0, 0.0, 0.0], [0.0, 0.0, 0.0, 0.0, 0.0], [0.0, 0.0, 2.0, ...  \n",
       "1  [[0.0, 0.0, 0.0, 0.0, 0.0], [0.0, 1.0, 0.0, 0.0, 0.0], [0.0, 0.0, 0.0, ...  \n",
       "2  [[0.0, 0.0, 0.0, 0.0, 0.0], [0.0, 1.0, 0.0, 0.0, 0.0], [0.0, 0.0, 0.0, ...  \n",
       "3  [[0.5, 0.0, 0.0, 0.0, 0.0], [0.0, 0.0, 0.0, 0.0, 0.0], [0.0, 0.0, 0.0, ...  \n",
       "4  [[0.25, 0.0, 0.0, 0.0, 0.0], [0.0, 0.0, 0.0, 0.0, 0.0], [0.0, 0.0, 1.0,...  \n",
       "5  [[0.0, 0.0, 0.0, 0.0, 0.0], [0.0, 0.0, 0.0, 0.0, 0.0], [0.0, 0.0, 2.0, ...  \n",
       "6  [[0.0, 0.0, 0.0, 0.0, 0.0], [0.0, 1.0, 0.0, 0.0, 0.0], [0.0, 0.0, 0.0, ...  \n",
       "7  [[0.0, 0.0, 0.0, 0.0, 0.0], [0.0, 1.0, 0.0, 0.0, 0.0], [0.0, 0.0, 0.0, ...  \n",
       "8  [[0.0, 0.0, 0.0, 0.0, 0.0], [0.0, 1.0, 0.0, 0.0, 0.0], [-0.0, -0.0, 0.0...  "
      ]
     },
     "metadata": {},
     "output_type": "display_data"
    }
   ],
   "source": [
    "pd.set_option('max_colwidth',75)\n",
    "sol = sol_basicas(A1,b)\n",
    "df_sol = pd.DataFrame(sol)\n",
    "print('\\n Soluciones básicas (Matriz de rango completo): \\n')\n",
    "display(df_sol)"
   ]
  },
  {
   "cell_type": "markdown",
   "metadata": {},
   "source": [
    "> La diferencia radica en que al tener el rango completo en 9 de sus 10 matrices combinadas se encuentran soluciones a diferencia de la matriz 2 solo se encuentran 2 de las 10. Eliminando las que son iguales tambien podemos notar que para el sistema de la matriz 2 existe una esquina la cual es una solución basica o esquina de la geometria asociada, a diferencia de la 1 que tiene 4 vertices, 4 soluciones basicas. "
   ]
  },
  {
   "cell_type": "markdown",
   "metadata": {},
   "source": [
    "- Punto 2"
   ]
  },
  {
   "cell_type": "markdown",
   "metadata": {},
   "source": [
    "> El problema consiste en 3 plantas de producción de energía eléctrica por medio de la quema de combustibles fósiles como lo son el carbón, el petróleo y el gas natural. Por cada uno de los combustibles se tienen la siguiente información, 1 tonelada de carbón, genera 600 kilovatios/hora, emite 20 unidades de bióxido de azufre, 15 unidades de partículas suspendidas y su costo es de 200 dólares; 1 tonelada de petróleo, genera 550 kilovatios hora, emite 18 unidades de bióxido de azufre, 12 unidades de partículas suspendidas y su costo es de 220 dólares; 1 tonelada de gas, genera 500 kilovatios/hora, emite 15 unidades de bióxido de azufre, 10 unidades de partículas suspendidas y  cuesta 250 dólares. Se conocen ahora las restricciones que impuso la oficina de protección ambiental, las cuales limitan las emisiones de bióxido de azufre a no más de 60 unidades y las partículas suspendidas a no más de 75 diarias. Por último, se cuenta con 2000 USD para el pago total de la realización del proyecto. ¿Cuánto combustible de cada clase debe comprar para maximizar la cantidad de energía generada?"
   ]
  },
  {
   "cell_type": "markdown",
   "metadata": {},
   "source": [
    "> Definimos las variables de costo:"
   ]
  },
  {
   "cell_type": "markdown",
   "metadata": {},
   "source": [
    "$$x_{1}\\rightarrow\\;\\; Cantidad\\;de\\;Carbón$$ \n",
    "$$x_{2}\\rightarrow\\;\\; Cantidad\\;de\\;Petróleo$$ \n",
    "$$x_{3}\\rightarrow\\;\\; Cantidad\\;de\\;Gas$$ "
   ]
  },
  {
   "cell_type": "markdown",
   "metadata": {},
   "source": [
    "> Del problema se asume que se busca maximizar la cantidad de energía eléctrica generada con respecto al combustible que consume cada planta (carbón, petróleo y gas) por lo que se sabe que el resultado esperado de dicho proceso estará sujeto a múltiples restricciones, las cuales delimitan la relación entre el nivel de producción (kilovatios/hora) y el costo económico (USD) que implica la generación los mismo. \n",
    "Por lo que, se propone la siguiente función de costos:\n",
    "$$P(x_{1}, x_{2}, x_{3}) = 600x_{1} + 550x_{2} + 500x_{3}$$"
   ]
  },
  {
   "cell_type": "markdown",
   "metadata": {},
   "source": [
    "> Se plantea el ejercicio de PL con las siguientes restricciones"
   ]
  },
  {
   "cell_type": "markdown",
   "metadata": {},
   "source": [
    "- S.A\n",
    "$$20x_{1} + 18x_{2} + 15x_{3} \\leq 60$$\n",
    "$$15x_{1} + 12x_{2} + 10x_{3} \\leq 75 $$\n",
    "$$200x_{1} + 220x_{2} + 250x_{3} \\leq 2000 $$\n",
    "> La última restricción es que ninguna producción puede ser negativa\n",
    "$$x_{n} \\geq 0 \\therefore n \\in [1,2,3]$$"
   ]
  },
  {
   "cell_type": "markdown",
   "metadata": {},
   "source": [
    "> De las tres ecuaciones de restricciones que entienden como, condiciones que se deben cumplir de forma que se obtenga el resultado esperado sobre la cantidad de combustible para maximizar el proceso de producción energética. Estas restricciones están ligadas a la oficina de protección ambiental la cual restringe las emisiones diarias tanto de partículas suspendidas como bióxido de azufre, las cuales no pueden superar los valores de 75 y 60 la cual representarían las dos primeras ecuaciones. La tercera ecuación cuenta con la restricción del presupuesto para la realización del proyecto el cual no debe superar los 2000 dólares. "
   ]
  },
  {
   "cell_type": "markdown",
   "metadata": {},
   "source": [
    "> Se plantea el problema de forma estandar:\n",
    "$$min \\;\\; -600x_{1} -550x_{2} - 500x_{3}$$\n",
    "- S.A\n",
    "$$20x_{1} + 18x_{2} + 15x_{3} + s_{1} = 60$$\n",
    "$$15x_{1} + 12x_{2} + 10x_{3} + s_{2} = 75 $$\n",
    "$$200x_{1} + 220x_{2} + 250x_{3} + s_{3}  = 2000 $$\n",
    "> La última restricción es que ninguna producción puede ser negativa\n",
    "$$x_{n} \\geq 0 \\therefore n \\in [1,2,3]$$\n",
    "$$s_{n} \\geq 0 \\therefore n \\in [1,2,3]$$\n"
   ]
  },
  {
   "cell_type": "markdown",
   "metadata": {},
   "source": [
    "> Se plantea el problema de la misma forma sin las variables de holgura.\n",
    "$$max \\;\\; 600x_{1} + 550x_{2} + 500x_{3}$$\n",
    "- S.A\n",
    "$$20x_{1} + 18x_{2} + 15x_{3}  \\leq 60$$\n",
    "$$15x_{1} + 12x_{2} + 10x_{3} \\leq 75 $$\n",
    "$$200x_{1} + 220x_{2} + 250x_{3} \\leq 2000 $$\n",
    "> La última restricción es que ninguna producción puede ser negativa\n",
    "$$x_{n} \\geq 0 \\therefore n \\in [1,2,3]$$"
   ]
  },
  {
   "cell_type": "markdown",
   "metadata": {},
   "source": [
    "> Se nos solicita implementar una función que reciba como parámetros las restricciones mencionadas anteriormente de forma que encuentre todas las soluciones básicas; y así sea posible verificar la factibilidad de todas estas soluciones, es decir, que tengan un valor mayor a 0."
   ]
  },
  {
   "cell_type": "code",
   "execution_count": 2,
   "metadata": {},
   "outputs": [],
   "source": [
    "c_ex = np.array([600,550,500]) # x_1 x_2 x_3\n",
    "A3 = np.array([[20, 18, 15, 1, 0, 0],\n",
    "              [15, 12, 10, 0, 1, 0],\n",
    "              [200, 220, 250, 0, 0, 1]])\n",
    "b3 = np.array([60, 75, 2000])"
   ]
  },
  {
   "cell_type": "code",
   "execution_count": 161,
   "metadata": {},
   "outputs": [],
   "source": [
    "def sol_basicas2(A,b,P):\n",
    "    # get columns and rows\n",
    "    f3, c3 = A.shape\n",
    "    fv3 = c3 - f3\n",
    "    # get all the combinations of the matrix with c-f fv (free variables)\n",
    "    comb = combinations(range(c3), c3-f3)\n",
    "    # create the dictionary\n",
    "    dire = {'Solucion':[], 'Base':[], 'Tipo':[], 'valor':[]}\n",
    "    # create the combinations of the basic variables\n",
    "    c_s = set(np.array(range(c3)))\n",
    "    # get the matrix of A\n",
    "    filtro = np.array\n",
    "    # build the base\n",
    "    tipo1 = 'factible'\n",
    "    tipo2 = 'no-factible'\n",
    "    tipo = ' '\n",
    "    for i in list(comb):\n",
    "        no_b = set(i)\n",
    "        c_m = c_s^no_b\n",
    "        # we obtain the matrix of the combination iteration\n",
    "        B = A[:, list(c_m)]\n",
    "        # create a vector of zeros with c positions\n",
    "        sol = np.zeros(c3)\n",
    "        # same\n",
    "        base = sol\n",
    "        # same\n",
    "        no_base = sol\n",
    "        # set a flag to change if the condition xn>0 is not possible\n",
    "        bandera = True\n",
    "        tipo = tipo1\n",
    "        # we get the identity to found the bases of the solution\n",
    "        m = np.identity(c3-fv3)\n",
    "        # we get the identity to get the real bases in terms of c positions\n",
    "        m2 = np.identity(c3)\n",
    "        # we get an identify of cxc to multplicate \n",
    "        iden = np.identity(c3)\n",
    "        # we condition that the matrix B have solution\n",
    "        if np.linalg.det(B) != 0:\n",
    "            # use solve to the system Bx=b\n",
    "            x = solve(B, b)\n",
    "            # use solve to the system Ico=x to get the bases\n",
    "            co = solve(m,x)\n",
    "            # x = x.astype(int)\n",
    "            for j in range(c3-fv3):\n",
    "                if x[j] < 0: \n",
    "                    tipo = tipo2\n",
    "                valor = list(c_m)[j]\n",
    "                sol[valor] = round(x[j],3)\n",
    "                base[valor] = round(co[j],3)\n",
    "                for k in range(c3):\n",
    "                    if k != valor:\n",
    "                        m2[:,k] = no_base\n",
    "                    #  print(m2)\n",
    "            dire['Solucion'].append(sol)\n",
    "            dire['Base'].append(m2*iden)\n",
    "            dire['Tipo'].append(tipo)\n",
    "            t = np.zeros(c3-fv3)\n",
    "            for u in range(len(P)-1):\n",
    "                t[u] = P[u]*sol[u+1]-100\n",
    "            dire['valor'].append(sum(t))\n",
    "    return dire"
   ]
  },
  {
   "cell_type": "code",
   "execution_count": 162,
   "metadata": {},
   "outputs": [
    {
     "name": "stdout",
     "output_type": "stream",
     "text": [
      "0.0059986114501953125\n",
      "{'Solucion': [array([   0.,    0.,    0.,   60.,   75., 2000.]), array([   0.,    0.,    4.,    0.,   35., 1000.]), array([  0. ,   0. ,   7.5, -52.5,   0. , 125. ]), array([  0.,   0.,   8., -60.,  -5.,   0.]), array([   0.   ,    3.333,    0.   ,    0.   ,   35.   , 1266.667]), array([  0.  ,   6.25,   0.  , -52.5 ,   0.  , 625.  ]), array([   0.   ,    9.091,    0.   , -103.636,  -34.091,    0.   ]), array([ 0.00000000e+00, -6.30503948e+16,  7.56604737e+16,  0.00000000e+00,\n",
      "        0.00000000e+00, -5.04403158e+18]), array([  0. , -12.5,  19. ,   0. ,  35. ,   0. ]), array([  0.   ,  -1.563,   9.375, -52.5  ,   0.   ,   0.   ]), array([   3.,    0.,    0.,    0.,   30., 1400.]), array([   5.,    0.,    0.,  -40.,    0., 1000.]), array([  10.,    0.,    0., -140.,  -75.,    0.]), array([  21.,    0.,  -24.,    0.,    0., 3800.]), array([-7.5,  0. , 14. ,  0. , 47.5,  0. ]), array([ -0.714,   0.   ,   8.571, -54.286,   0.   ,   0.   ]), array([  21.,  -20.,    0.,    0.,    0., 2200.]), array([-28.5,  35. ,   0. ,   0. ,  82.5,   0. ]), array([ -8.333,  16.667,   0.   , -73.333,   0.   ,   0.   ]), array([ 21. , -47.5,  33. ,   0. ,   0. ,   0. ])], 'Base': [array([[ 0.,  0.,  0.,  0.,  0.,  0.],\n",
      "       [ 0.,  0.,  0.,  0.,  0.,  0.],\n",
      "       [ 0.,  0.,  0.,  0.,  0.,  0.],\n",
      "       [ 0.,  0.,  0., 60.,  0.,  0.],\n",
      "       [ 0.,  0.,  0.,  0., 75.,  0.],\n",
      "       [ 0.,  0.,  0.,  0.,  0.,  0.]]), array([[ 0.,  0.,  0.,  0.,  0.,  0.],\n",
      "       [ 0.,  0.,  0.,  0.,  0.,  0.],\n",
      "       [ 0.,  0.,  4.,  0.,  0.,  0.],\n",
      "       [ 0.,  0.,  0.,  0.,  0.,  0.],\n",
      "       [ 0.,  0.,  0.,  0., 35.,  0.],\n",
      "       [ 0.,  0.,  0.,  0.,  0.,  0.]]), array([[  0. ,   0. ,   0. ,   0. ,   0. ,   0. ],\n",
      "       [  0. ,   0. ,   0. ,   0. ,   0. ,   0. ],\n",
      "       [  0. ,   0. ,   7.5,   0. ,   0. ,   0. ],\n",
      "       [ -0. ,  -0. ,  -0. , -52.5,  -0. ,  -0. ],\n",
      "       [  0. ,   0. ,   0. ,   0. ,   0. ,   0. ],\n",
      "       [  0. ,   0. ,   0. ,   0. ,   0. ,   0. ]]), array([[  0.,   0.,   0.,   0.,   0.,   0.],\n",
      "       [  0.,   0.,   0.,   0.,   0.,   0.],\n",
      "       [  0.,   0.,   8.,   0.,   0.,   0.],\n",
      "       [ -0.,  -0.,  -0., -60.,  -0.,  -0.],\n",
      "       [ -0.,  -0.,  -0.,  -0.,   0.,  -0.],\n",
      "       [  0.,   0.,   0.,   0.,   0.,   0.]]), array([[ 0.   ,  0.   ,  0.   ,  0.   ,  0.   ,  0.   ],\n",
      "       [ 0.   ,  3.333,  0.   ,  0.   ,  0.   ,  0.   ],\n",
      "       [ 0.   ,  0.   ,  0.   ,  0.   ,  0.   ,  0.   ],\n",
      "       [ 0.   ,  0.   ,  0.   ,  0.   ,  0.   ,  0.   ],\n",
      "       [ 0.   ,  0.   ,  0.   ,  0.   , 35.   ,  0.   ],\n",
      "       [ 0.   ,  0.   ,  0.   ,  0.   ,  0.   ,  0.   ]]), array([[  0.  ,   0.  ,   0.  ,   0.  ,   0.  ,   0.  ],\n",
      "       [  0.  ,   6.25,   0.  ,   0.  ,   0.  ,   0.  ],\n",
      "       [  0.  ,   0.  ,   0.  ,   0.  ,   0.  ,   0.  ],\n",
      "       [ -0.  ,  -0.  ,  -0.  , -52.5 ,  -0.  ,  -0.  ],\n",
      "       [  0.  ,   0.  ,   0.  ,   0.  ,   0.  ,   0.  ],\n",
      "       [  0.  ,   0.  ,   0.  ,   0.  ,   0.  ,   0.  ]]), array([[   0.   ,    0.   ,    0.   ,    0.   ,    0.   ,    0.   ],\n",
      "       [   0.   ,    9.091,    0.   ,    0.   ,    0.   ,    0.   ],\n",
      "       [   0.   ,    0.   ,    0.   ,    0.   ,    0.   ,    0.   ],\n",
      "       [  -0.   ,   -0.   ,   -0.   , -103.636,   -0.   ,   -0.   ],\n",
      "       [  -0.   ,   -0.   ,   -0.   ,   -0.   ,    0.   ,   -0.   ],\n",
      "       [   0.   ,    0.   ,    0.   ,    0.   ,    0.   ,    0.   ]]), array([[ 0.00000000e+00,  0.00000000e+00,  0.00000000e+00,\n",
      "         0.00000000e+00,  0.00000000e+00,  0.00000000e+00],\n",
      "       [-0.00000000e+00, -6.30503948e+16, -0.00000000e+00,\n",
      "        -0.00000000e+00, -0.00000000e+00, -0.00000000e+00],\n",
      "       [ 0.00000000e+00,  0.00000000e+00,  7.56604737e+16,\n",
      "         0.00000000e+00,  0.00000000e+00,  0.00000000e+00],\n",
      "       [ 0.00000000e+00,  0.00000000e+00,  0.00000000e+00,\n",
      "         0.00000000e+00,  0.00000000e+00,  0.00000000e+00],\n",
      "       [ 0.00000000e+00,  0.00000000e+00,  0.00000000e+00,\n",
      "         0.00000000e+00,  0.00000000e+00,  0.00000000e+00],\n",
      "       [-0.00000000e+00, -0.00000000e+00, -0.00000000e+00,\n",
      "        -0.00000000e+00, -0.00000000e+00,  0.00000000e+00]]), array([[  0. ,   0. ,   0. ,   0. ,   0. ,   0. ],\n",
      "       [ -0. , -12.5,  -0. ,  -0. ,  -0. ,  -0. ],\n",
      "       [  0. ,   0. ,  19. ,   0. ,   0. ,   0. ],\n",
      "       [  0. ,   0. ,   0. ,   0. ,   0. ,   0. ],\n",
      "       [  0. ,   0. ,   0. ,   0. ,   0. ,   0. ],\n",
      "       [  0. ,   0. ,   0. ,   0. ,   0. ,   0. ]]), array([[ 0.   ,  0.   ,  0.   ,  0.   ,  0.   ,  0.   ],\n",
      "       [-0.   , -1.563, -0.   , -0.   , -0.   , -0.   ],\n",
      "       [ 0.   ,  0.   ,  9.375,  0.   ,  0.   ,  0.   ],\n",
      "       [-0.   , -0.   , -0.   ,  0.   , -0.   , -0.   ],\n",
      "       [ 0.   ,  0.   ,  0.   ,  0.   ,  0.   ,  0.   ],\n",
      "       [ 0.   ,  0.   ,  0.   ,  0.   ,  0.   ,  0.   ]]), array([[ 3.,  0.,  0.,  0.,  0.,  0.],\n",
      "       [ 0.,  0.,  0.,  0.,  0.,  0.],\n",
      "       [ 0.,  0.,  0.,  0.,  0.,  0.],\n",
      "       [ 0.,  0.,  0.,  0.,  0.,  0.],\n",
      "       [ 0.,  0.,  0.,  0., 30.,  0.],\n",
      "       [ 0.,  0.,  0.,  0.,  0.,  0.]]), array([[  5.,   0.,   0.,   0.,   0.,   0.],\n",
      "       [  0.,   0.,   0.,   0.,   0.,   0.],\n",
      "       [  0.,   0.,   0.,   0.,   0.,   0.],\n",
      "       [ -0.,  -0.,  -0., -40.,  -0.,  -0.],\n",
      "       [  0.,   0.,   0.,   0.,   0.,   0.],\n",
      "       [  0.,   0.,   0.,   0.,   0.,   0.]]), array([[  10.,    0.,    0.,    0.,    0.,    0.],\n",
      "       [   0.,    0.,    0.,    0.,    0.,    0.],\n",
      "       [   0.,    0.,    0.,    0.,    0.,    0.],\n",
      "       [  -0.,   -0.,   -0., -140.,   -0.,   -0.],\n",
      "       [  -0.,   -0.,   -0.,   -0.,    0.,   -0.],\n",
      "       [   0.,    0.,    0.,    0.,    0.,    0.]]), array([[ 21.,   0.,   0.,   0.,   0.,   0.],\n",
      "       [  0.,   0.,   0.,   0.,   0.,   0.],\n",
      "       [ -0.,  -0., -24.,  -0.,  -0.,  -0.],\n",
      "       [  0.,   0.,   0.,   0.,   0.,   0.],\n",
      "       [  0.,   0.,   0.,   0.,   0.,   0.],\n",
      "       [  0.,   0.,   0.,   0.,   0.,   0.]]), array([[-7.5, -0. , -0. , -0. , -0. , -0. ],\n",
      "       [ 0. ,  0. ,  0. ,  0. ,  0. ,  0. ],\n",
      "       [ 0. ,  0. , 14. ,  0. ,  0. ,  0. ],\n",
      "       [ 0. ,  0. ,  0. ,  0. ,  0. ,  0. ],\n",
      "       [ 0. ,  0. ,  0. ,  0. ,  0. ,  0. ],\n",
      "       [ 0. ,  0. ,  0. ,  0. ,  0. ,  0. ]]), array([[-0.714, -0.   , -0.   , -0.   , -0.   , -0.   ],\n",
      "       [ 0.   ,  0.   ,  0.   ,  0.   ,  0.   ,  0.   ],\n",
      "       [ 0.   ,  0.   ,  8.571,  0.   ,  0.   ,  0.   ],\n",
      "       [-0.   , -0.   , -0.   ,  0.   , -0.   , -0.   ],\n",
      "       [ 0.   ,  0.   ,  0.   ,  0.   ,  0.   ,  0.   ],\n",
      "       [ 0.   ,  0.   ,  0.   ,  0.   ,  0.   ,  0.   ]]), array([[ 21.,   0.,   0.,   0.,   0.,   0.],\n",
      "       [ -0., -20.,  -0.,  -0.,  -0.,  -0.],\n",
      "       [  0.,   0.,   0.,   0.,   0.,   0.],\n",
      "       [  0.,   0.,   0.,   0.,   0.,   0.],\n",
      "       [  0.,   0.,   0.,   0.,   0.,   0.],\n",
      "       [  0.,   0.,   0.,   0.,   0.,   0.]]), array([[-28.5,  -0. ,  -0. ,  -0. ,  -0. ,  -0. ],\n",
      "       [  0. ,  35. ,   0. ,   0. ,   0. ,   0. ],\n",
      "       [  0. ,   0. ,   0. ,   0. ,   0. ,   0. ],\n",
      "       [  0. ,   0. ,   0. ,   0. ,   0. ,   0. ],\n",
      "       [  0. ,   0. ,   0. ,   0. ,   0. ,   0. ],\n",
      "       [  0. ,   0. ,   0. ,   0. ,   0. ,   0. ]]), array([[-8.333, -0.   , -0.   , -0.   , -0.   , -0.   ],\n",
      "       [ 0.   , 16.667,  0.   ,  0.   ,  0.   ,  0.   ],\n",
      "       [ 0.   ,  0.   ,  0.   ,  0.   ,  0.   ,  0.   ],\n",
      "       [-0.   , -0.   , -0.   ,  0.   , -0.   , -0.   ],\n",
      "       [ 0.   ,  0.   ,  0.   ,  0.   ,  0.   ,  0.   ],\n",
      "       [ 0.   ,  0.   ,  0.   ,  0.   ,  0.   ,  0.   ]]), array([[ 21. ,   0. ,   0. ,   0. ,   0. ,   0. ],\n",
      "       [ -0. , -47.5,  -0. ,  -0. ,  -0. ,  -0. ],\n",
      "       [  0. ,   0. ,   0. ,   0. ,   0. ,   0. ],\n",
      "       [  0. ,   0. ,   0. ,   0. ,   0. ,   0. ],\n",
      "       [  0. ,   0. ,   0. ,   0. ,   0. ,   0. ],\n",
      "       [  0. ,   0. ,   0. ,   0. ,   0. ,   0. ]])], 'Tipo': ['factible', 'factible', 'no-factible', 'no-factible', 'factible', 'no-factible', 'no-factible', 'no-factible', 'no-factible', 'no-factible', 'factible', 'no-factible', 'no-factible', 'no-factible', 'no-factible', 'no-factible', 'no-factible', 'no-factible', 'no-factible', 'no-factible'], 'valor': [-200.0, 2000.0, 3925.0, 4200.0, 1799.8000000000002, 3550.0, 5254.599999999999, 3.7830236869912166e+18, 2750.0, 4018.45, -200.0, -200.0, -200.0, -13400.0, 7500.0, 4514.05, -12200.0, 20800.0, 9800.2, -10550.0]}\n"
     ]
    },
    {
     "name": "stderr",
     "output_type": "stream",
     "text": [
      "C:\\Users\\danie\\AppData\\Local\\Temp\\ipykernel_11340\\3491470340.py:40: LinAlgWarning: Ill-conditioned matrix (rcond=2.4557e-20): result may not be accurate.\n",
      "  x = solve(B, b)\n"
     ]
    }
   ],
   "source": [
    "# vectores de prueba \n",
    "\n",
    "start = time.time()\n",
    "prueba3 =  sol_basicas2(A3,b3,c_ex)\n",
    "end = time.time()\n",
    "print(end-start)\n",
    "print(prueba3)"
   ]
  },
  {
   "cell_type": "code",
   "execution_count": 163,
   "metadata": {},
   "outputs": [
    {
     "name": "stdout",
     "output_type": "stream",
     "text": [
      "\n",
      " Soluciones básicas (Matriz de rango completo): \n",
      "\n"
     ]
    },
    {
     "name": "stderr",
     "output_type": "stream",
     "text": [
      "C:\\Users\\danie\\AppData\\Local\\Temp\\ipykernel_11340\\3491470340.py:40: LinAlgWarning: Ill-conditioned matrix (rcond=2.4557e-20): result may not be accurate.\n",
      "  x = solve(B, b)\n"
     ]
    },
    {
     "data": {
      "text/html": [
       "<div>\n",
       "<style scoped>\n",
       "    .dataframe tbody tr th:only-of-type {\n",
       "        vertical-align: middle;\n",
       "    }\n",
       "\n",
       "    .dataframe tbody tr th {\n",
       "        vertical-align: top;\n",
       "    }\n",
       "\n",
       "    .dataframe thead th {\n",
       "        text-align: right;\n",
       "    }\n",
       "</style>\n",
       "<table border=\"1\" class=\"dataframe\">\n",
       "  <thead>\n",
       "    <tr style=\"text-align: right;\">\n",
       "      <th></th>\n",
       "      <th>Solucion</th>\n",
       "      <th>Base</th>\n",
       "      <th>Tipo</th>\n",
       "      <th>valor</th>\n",
       "    </tr>\n",
       "  </thead>\n",
       "  <tbody>\n",
       "    <tr>\n",
       "      <th>0</th>\n",
       "      <td>[0.0, 0.0, 0.0, 60.0, 75.0, 2000.0]</td>\n",
       "      <td>[[0.0, 0.0, 0.0, 0.0, 0.0, 0.0], [0.0, 0.0, 0.0, 0.0, 0.0, 0.0], [0.0, ...</td>\n",
       "      <td>factible</td>\n",
       "      <td>-2.000000e+02</td>\n",
       "    </tr>\n",
       "    <tr>\n",
       "      <th>1</th>\n",
       "      <td>[0.0, 0.0, 4.0, 0.0, 35.0, 1000.0]</td>\n",
       "      <td>[[0.0, 0.0, 0.0, 0.0, 0.0, 0.0], [0.0, 0.0, 0.0, 0.0, 0.0, 0.0], [0.0, ...</td>\n",
       "      <td>factible</td>\n",
       "      <td>2.000000e+03</td>\n",
       "    </tr>\n",
       "    <tr>\n",
       "      <th>2</th>\n",
       "      <td>[0.0, 0.0, 7.5, -52.5, 0.0, 125.0]</td>\n",
       "      <td>[[0.0, 0.0, 0.0, 0.0, 0.0, 0.0], [0.0, 0.0, 0.0, 0.0, 0.0, 0.0], [0.0, ...</td>\n",
       "      <td>no-factible</td>\n",
       "      <td>3.925000e+03</td>\n",
       "    </tr>\n",
       "    <tr>\n",
       "      <th>3</th>\n",
       "      <td>[0.0, 0.0, 8.0, -60.0, -5.0, 0.0]</td>\n",
       "      <td>[[0.0, 0.0, 0.0, 0.0, 0.0, 0.0], [0.0, 0.0, 0.0, 0.0, 0.0, 0.0], [0.0, ...</td>\n",
       "      <td>no-factible</td>\n",
       "      <td>4.200000e+03</td>\n",
       "    </tr>\n",
       "    <tr>\n",
       "      <th>4</th>\n",
       "      <td>[0.0, 3.333, 0.0, 0.0, 35.0, 1266.667]</td>\n",
       "      <td>[[0.0, 0.0, 0.0, 0.0, 0.0, 0.0], [0.0, 3.333, 0.0, 0.0, 0.0, 0.0], [0.0...</td>\n",
       "      <td>factible</td>\n",
       "      <td>1.799800e+03</td>\n",
       "    </tr>\n",
       "    <tr>\n",
       "      <th>5</th>\n",
       "      <td>[0.0, 6.25, 0.0, -52.5, 0.0, 625.0]</td>\n",
       "      <td>[[0.0, 0.0, 0.0, 0.0, 0.0, 0.0], [0.0, 6.25, 0.0, 0.0, 0.0, 0.0], [0.0,...</td>\n",
       "      <td>no-factible</td>\n",
       "      <td>3.550000e+03</td>\n",
       "    </tr>\n",
       "    <tr>\n",
       "      <th>6</th>\n",
       "      <td>[0.0, 9.091, 0.0, -103.636, -34.091, 0.0]</td>\n",
       "      <td>[[0.0, 0.0, 0.0, 0.0, 0.0, 0.0], [0.0, 9.091, 0.0, 0.0, 0.0, 0.0], [0.0...</td>\n",
       "      <td>no-factible</td>\n",
       "      <td>5.254600e+03</td>\n",
       "    </tr>\n",
       "    <tr>\n",
       "      <th>7</th>\n",
       "      <td>[0.0, -6.305039478318694e+16, 7.566047373982434e+16, 0.0, 0.0, -5.04403...</td>\n",
       "      <td>[[0.0, 0.0, 0.0, 0.0, 0.0, 0.0], [-0.0, -6.305039478318694e+16, -0.0, -...</td>\n",
       "      <td>no-factible</td>\n",
       "      <td>3.783024e+18</td>\n",
       "    </tr>\n",
       "    <tr>\n",
       "      <th>8</th>\n",
       "      <td>[0.0, -12.5, 19.0, 0.0, 35.0, 0.0]</td>\n",
       "      <td>[[0.0, 0.0, 0.0, 0.0, 0.0, 0.0], [-0.0, -12.5, -0.0, -0.0, -0.0, -0.0],...</td>\n",
       "      <td>no-factible</td>\n",
       "      <td>2.750000e+03</td>\n",
       "    </tr>\n",
       "    <tr>\n",
       "      <th>9</th>\n",
       "      <td>[0.0, -1.563, 9.375, -52.5, 0.0, 0.0]</td>\n",
       "      <td>[[0.0, 0.0, 0.0, 0.0, 0.0, 0.0], [-0.0, -1.563, -0.0, -0.0, -0.0, -0.0]...</td>\n",
       "      <td>no-factible</td>\n",
       "      <td>4.018450e+03</td>\n",
       "    </tr>\n",
       "    <tr>\n",
       "      <th>10</th>\n",
       "      <td>[3.0, 0.0, 0.0, 0.0, 30.0, 1400.0]</td>\n",
       "      <td>[[3.0, 0.0, 0.0, 0.0, 0.0, 0.0], [0.0, 0.0, 0.0, 0.0, 0.0, 0.0], [0.0, ...</td>\n",
       "      <td>factible</td>\n",
       "      <td>-2.000000e+02</td>\n",
       "    </tr>\n",
       "    <tr>\n",
       "      <th>11</th>\n",
       "      <td>[5.0, 0.0, 0.0, -40.0, 0.0, 1000.0]</td>\n",
       "      <td>[[5.0, 0.0, 0.0, 0.0, 0.0, 0.0], [0.0, 0.0, 0.0, 0.0, 0.0, 0.0], [0.0, ...</td>\n",
       "      <td>no-factible</td>\n",
       "      <td>-2.000000e+02</td>\n",
       "    </tr>\n",
       "    <tr>\n",
       "      <th>12</th>\n",
       "      <td>[10.0, 0.0, 0.0, -140.0, -75.0, 0.0]</td>\n",
       "      <td>[[10.0, 0.0, 0.0, 0.0, 0.0, 0.0], [0.0, 0.0, 0.0, 0.0, 0.0, 0.0], [0.0,...</td>\n",
       "      <td>no-factible</td>\n",
       "      <td>-2.000000e+02</td>\n",
       "    </tr>\n",
       "    <tr>\n",
       "      <th>13</th>\n",
       "      <td>[21.0, 0.0, -24.0, 0.0, 0.0, 3800.0]</td>\n",
       "      <td>[[21.0, 0.0, 0.0, 0.0, 0.0, 0.0], [0.0, 0.0, 0.0, 0.0, 0.0, 0.0], [-0.0...</td>\n",
       "      <td>no-factible</td>\n",
       "      <td>-1.340000e+04</td>\n",
       "    </tr>\n",
       "    <tr>\n",
       "      <th>14</th>\n",
       "      <td>[-7.5, 0.0, 14.0, 0.0, 47.5, 0.0]</td>\n",
       "      <td>[[-7.5, -0.0, -0.0, -0.0, -0.0, -0.0], [0.0, 0.0, 0.0, 0.0, 0.0, 0.0], ...</td>\n",
       "      <td>no-factible</td>\n",
       "      <td>7.500000e+03</td>\n",
       "    </tr>\n",
       "    <tr>\n",
       "      <th>15</th>\n",
       "      <td>[-0.714, 0.0, 8.571, -54.286, 0.0, 0.0]</td>\n",
       "      <td>[[-0.714, -0.0, -0.0, -0.0, -0.0, -0.0], [0.0, 0.0, 0.0, 0.0, 0.0, 0.0]...</td>\n",
       "      <td>no-factible</td>\n",
       "      <td>4.514050e+03</td>\n",
       "    </tr>\n",
       "    <tr>\n",
       "      <th>16</th>\n",
       "      <td>[21.0, -20.0, 0.0, 0.0, 0.0, 2200.0]</td>\n",
       "      <td>[[21.0, 0.0, 0.0, 0.0, 0.0, 0.0], [-0.0, -20.0, -0.0, -0.0, -0.0, -0.0]...</td>\n",
       "      <td>no-factible</td>\n",
       "      <td>-1.220000e+04</td>\n",
       "    </tr>\n",
       "    <tr>\n",
       "      <th>17</th>\n",
       "      <td>[-28.5, 35.0, 0.0, 0.0, 82.5, 0.0]</td>\n",
       "      <td>[[-28.5, -0.0, -0.0, -0.0, -0.0, -0.0], [0.0, 35.0, 0.0, 0.0, 0.0, 0.0]...</td>\n",
       "      <td>no-factible</td>\n",
       "      <td>2.080000e+04</td>\n",
       "    </tr>\n",
       "    <tr>\n",
       "      <th>18</th>\n",
       "      <td>[-8.333, 16.667, 0.0, -73.333, 0.0, 0.0]</td>\n",
       "      <td>[[-8.333, -0.0, -0.0, -0.0, -0.0, -0.0], [0.0, 16.667, 0.0, 0.0, 0.0, 0...</td>\n",
       "      <td>no-factible</td>\n",
       "      <td>9.800200e+03</td>\n",
       "    </tr>\n",
       "    <tr>\n",
       "      <th>19</th>\n",
       "      <td>[21.0, -47.5, 33.0, 0.0, 0.0, 0.0]</td>\n",
       "      <td>[[21.0, 0.0, 0.0, 0.0, 0.0, 0.0], [-0.0, -47.5, -0.0, -0.0, -0.0, -0.0]...</td>\n",
       "      <td>no-factible</td>\n",
       "      <td>-1.055000e+04</td>\n",
       "    </tr>\n",
       "  </tbody>\n",
       "</table>\n",
       "</div>"
      ],
      "text/plain": [
       "                                                                      Solucion  \\\n",
       "0                                          [0.0, 0.0, 0.0, 60.0, 75.0, 2000.0]   \n",
       "1                                           [0.0, 0.0, 4.0, 0.0, 35.0, 1000.0]   \n",
       "2                                           [0.0, 0.0, 7.5, -52.5, 0.0, 125.0]   \n",
       "3                                            [0.0, 0.0, 8.0, -60.0, -5.0, 0.0]   \n",
       "4                                       [0.0, 3.333, 0.0, 0.0, 35.0, 1266.667]   \n",
       "5                                          [0.0, 6.25, 0.0, -52.5, 0.0, 625.0]   \n",
       "6                                    [0.0, 9.091, 0.0, -103.636, -34.091, 0.0]   \n",
       "7   [0.0, -6.305039478318694e+16, 7.566047373982434e+16, 0.0, 0.0, -5.04403...   \n",
       "8                                           [0.0, -12.5, 19.0, 0.0, 35.0, 0.0]   \n",
       "9                                        [0.0, -1.563, 9.375, -52.5, 0.0, 0.0]   \n",
       "10                                          [3.0, 0.0, 0.0, 0.0, 30.0, 1400.0]   \n",
       "11                                         [5.0, 0.0, 0.0, -40.0, 0.0, 1000.0]   \n",
       "12                                        [10.0, 0.0, 0.0, -140.0, -75.0, 0.0]   \n",
       "13                                        [21.0, 0.0, -24.0, 0.0, 0.0, 3800.0]   \n",
       "14                                           [-7.5, 0.0, 14.0, 0.0, 47.5, 0.0]   \n",
       "15                                     [-0.714, 0.0, 8.571, -54.286, 0.0, 0.0]   \n",
       "16                                        [21.0, -20.0, 0.0, 0.0, 0.0, 2200.0]   \n",
       "17                                          [-28.5, 35.0, 0.0, 0.0, 82.5, 0.0]   \n",
       "18                                    [-8.333, 16.667, 0.0, -73.333, 0.0, 0.0]   \n",
       "19                                          [21.0, -47.5, 33.0, 0.0, 0.0, 0.0]   \n",
       "\n",
       "                                                                          Base  \\\n",
       "0   [[0.0, 0.0, 0.0, 0.0, 0.0, 0.0], [0.0, 0.0, 0.0, 0.0, 0.0, 0.0], [0.0, ...   \n",
       "1   [[0.0, 0.0, 0.0, 0.0, 0.0, 0.0], [0.0, 0.0, 0.0, 0.0, 0.0, 0.0], [0.0, ...   \n",
       "2   [[0.0, 0.0, 0.0, 0.0, 0.0, 0.0], [0.0, 0.0, 0.0, 0.0, 0.0, 0.0], [0.0, ...   \n",
       "3   [[0.0, 0.0, 0.0, 0.0, 0.0, 0.0], [0.0, 0.0, 0.0, 0.0, 0.0, 0.0], [0.0, ...   \n",
       "4   [[0.0, 0.0, 0.0, 0.0, 0.0, 0.0], [0.0, 3.333, 0.0, 0.0, 0.0, 0.0], [0.0...   \n",
       "5   [[0.0, 0.0, 0.0, 0.0, 0.0, 0.0], [0.0, 6.25, 0.0, 0.0, 0.0, 0.0], [0.0,...   \n",
       "6   [[0.0, 0.0, 0.0, 0.0, 0.0, 0.0], [0.0, 9.091, 0.0, 0.0, 0.0, 0.0], [0.0...   \n",
       "7   [[0.0, 0.0, 0.0, 0.0, 0.0, 0.0], [-0.0, -6.305039478318694e+16, -0.0, -...   \n",
       "8   [[0.0, 0.0, 0.0, 0.0, 0.0, 0.0], [-0.0, -12.5, -0.0, -0.0, -0.0, -0.0],...   \n",
       "9   [[0.0, 0.0, 0.0, 0.0, 0.0, 0.0], [-0.0, -1.563, -0.0, -0.0, -0.0, -0.0]...   \n",
       "10  [[3.0, 0.0, 0.0, 0.0, 0.0, 0.0], [0.0, 0.0, 0.0, 0.0, 0.0, 0.0], [0.0, ...   \n",
       "11  [[5.0, 0.0, 0.0, 0.0, 0.0, 0.0], [0.0, 0.0, 0.0, 0.0, 0.0, 0.0], [0.0, ...   \n",
       "12  [[10.0, 0.0, 0.0, 0.0, 0.0, 0.0], [0.0, 0.0, 0.0, 0.0, 0.0, 0.0], [0.0,...   \n",
       "13  [[21.0, 0.0, 0.0, 0.0, 0.0, 0.0], [0.0, 0.0, 0.0, 0.0, 0.0, 0.0], [-0.0...   \n",
       "14  [[-7.5, -0.0, -0.0, -0.0, -0.0, -0.0], [0.0, 0.0, 0.0, 0.0, 0.0, 0.0], ...   \n",
       "15  [[-0.714, -0.0, -0.0, -0.0, -0.0, -0.0], [0.0, 0.0, 0.0, 0.0, 0.0, 0.0]...   \n",
       "16  [[21.0, 0.0, 0.0, 0.0, 0.0, 0.0], [-0.0, -20.0, -0.0, -0.0, -0.0, -0.0]...   \n",
       "17  [[-28.5, -0.0, -0.0, -0.0, -0.0, -0.0], [0.0, 35.0, 0.0, 0.0, 0.0, 0.0]...   \n",
       "18  [[-8.333, -0.0, -0.0, -0.0, -0.0, -0.0], [0.0, 16.667, 0.0, 0.0, 0.0, 0...   \n",
       "19  [[21.0, 0.0, 0.0, 0.0, 0.0, 0.0], [-0.0, -47.5, -0.0, -0.0, -0.0, -0.0]...   \n",
       "\n",
       "           Tipo         valor  \n",
       "0      factible -2.000000e+02  \n",
       "1      factible  2.000000e+03  \n",
       "2   no-factible  3.925000e+03  \n",
       "3   no-factible  4.200000e+03  \n",
       "4      factible  1.799800e+03  \n",
       "5   no-factible  3.550000e+03  \n",
       "6   no-factible  5.254600e+03  \n",
       "7   no-factible  3.783024e+18  \n",
       "8   no-factible  2.750000e+03  \n",
       "9   no-factible  4.018450e+03  \n",
       "10     factible -2.000000e+02  \n",
       "11  no-factible -2.000000e+02  \n",
       "12  no-factible -2.000000e+02  \n",
       "13  no-factible -1.340000e+04  \n",
       "14  no-factible  7.500000e+03  \n",
       "15  no-factible  4.514050e+03  \n",
       "16  no-factible -1.220000e+04  \n",
       "17  no-factible  2.080000e+04  \n",
       "18  no-factible  9.800200e+03  \n",
       "19  no-factible -1.055000e+04  "
      ]
     },
     "metadata": {},
     "output_type": "display_data"
    }
   ],
   "source": [
    "pd.set_option('max_colwidth',75)\n",
    "prueba3 = sol_basicas2(A3,b3,c_ex)\n",
    "df_sol = pd.DataFrame(prueba3)\n",
    "print('\\n Soluciones básicas (Matriz de rango completo): \\n')\n",
    "display(df_sol)"
   ]
  },
  {
   "cell_type": "markdown",
   "metadata": {},
   "source": [
    "> Como podemos observar la solucion factible optima se encuentra en la segunda iteración, con una función de costo P($x_{1}$,$x_{2}$,$x_{3}$)= 2000, comparandolo con los algoritmos 'revised_simplex', 'interior_point' y 'simplex'"
   ]
  },
  {
   "cell_type": "code",
   "execution_count": 137,
   "metadata": {},
   "outputs": [
    {
     "name": "stdout",
     "output_type": "stream",
     "text": [
      "0.003997802734375\n"
     ]
    },
    {
     "data": {
      "text/plain": [
       "     con: array([], dtype=float64)\n",
       "     fun: -2000.0\n",
       " message: 'Optimization terminated successfully.'\n",
       "     nit: 2\n",
       "   slack: array([   0.,   35., 1000.])\n",
       "  status: 0\n",
       " success: True\n",
       "       x: array([0., 0., 4.])"
      ]
     },
     "execution_count": 137,
     "metadata": {},
     "output_type": "execute_result"
    }
   ],
   "source": [
    "# P -> función de costo\n",
    "# coeficientes de P \n",
    "# los coeficientes teniendo en cuenta que todos los x son el tipo de recurso \n",
    "c_ex = np.array([600,550,500]) # x_1 x_2 x_3\n",
    "\n",
    "# constantes de inecuaciones x_1 x_2 x_3 = 3 variables de control\n",
    "# representan 3 restricciones\n",
    "# [1-3] representan la cantidad máxima de producción por planta\n",
    "# [4-6] representan la cantidad máxima de pies cuadrados que ocupan por planta\n",
    "# [7-9] representan la cantidad máxima estimada de venta por tipo de producto\n",
    "A = np.array([[20, 18, 15],\n",
    "              [15, 12, 10],\n",
    "              [200, 220, 250]])\n",
    "\n",
    "# se cre el vector solucion de la matriz\n",
    "b = np.array([60, 75, 2000])\n",
    "# restricciones de variables no negativas, (no puede existir producción negativa)\n",
    "bounds_ex = [(  0,    None)]*3\n",
    "# Solución de problema a traves de simplex\n",
    "# se toma el vector C como negativo para encontrar el minimo de la funcion invertida, osea el máximo\n",
    "start = time.time()\n",
    "res_ex2 = linprog(-c_ex, A_ub=A, b_ub=b, bounds=bounds_ex, method='revised simplex')\n",
    "end = time.time()\n",
    "# se toma las soluciones probables del sistema \n",
    "print(end-start)\n",
    "res_ex2"
   ]
  },
  {
   "cell_type": "code",
   "execution_count": 139,
   "metadata": {},
   "outputs": [
    {
     "name": "stdout",
     "output_type": "stream",
     "text": [
      "0.015993118286132812\n"
     ]
    },
    {
     "data": {
      "text/plain": [
       "     con: array([], dtype=float64)\n",
       "     fun: -1999.999999995471\n",
       " message: 'Optimization terminated successfully.'\n",
       "     nit: 8\n",
       "   slack: array([7.4685147e-11, 3.5000000e+01, 1.0000000e+03])\n",
       "  status: 0\n",
       " success: True\n",
       "       x: array([2.99286723e-11, 8.88531678e-13, 4.00000000e+00])"
      ]
     },
     "execution_count": 139,
     "metadata": {},
     "output_type": "execute_result"
    }
   ],
   "source": [
    "# P -> función de costo\n",
    "# coeficientes de P \n",
    "# los coeficientes teniendo en cuenta que todos los x son el tipo de recurso \n",
    "c_ex = np.array([600,550,500]) # x_1 x_2 x_3\n",
    "\n",
    "# constantes de inecuaciones x_1 x_2 x_3 = 3 variables de control\n",
    "# representan 3 restricciones\n",
    "# [1-3] representan la cantidad máxima de producción por planta\n",
    "# [4-6] representan la cantidad máxima de pies cuadrados que ocupan por planta\n",
    "# [7-9] representan la cantidad máxima estimada de venta por tipo de producto\n",
    "A = np.array([[20, 18, 15],\n",
    "              [15, 12, 10],\n",
    "              [200, 220, 250]])\n",
    "\n",
    "# se cre el vector solucion de la matriz\n",
    "b = np.array([60, 75, 2000])\n",
    "# restricciones de variables no negativas, (no puede existir producción negativa)\n",
    "bounds_ex = [(  0,    None)]*3\n",
    "# Solución de problema a traves de simplex\n",
    "# se toma el vector C como negativo para encontrar el minimo de la funcion invertida, osea el máximo\n",
    "start = time.time()\n",
    "res_ex2 = linprog(-c_ex, A_ub=A, b_ub=b, bounds=bounds_ex, method='interior-point')\n",
    "end = time.time()\n",
    "# se toma las soluciones probables del sistema \n",
    "print(end-start)\n",
    "res_ex2"
   ]
  },
  {
   "cell_type": "code",
   "execution_count": 140,
   "metadata": {},
   "outputs": [
    {
     "name": "stdout",
     "output_type": "stream",
     "text": [
      "0.006997346878051758\n"
     ]
    },
    {
     "data": {
      "text/plain": [
       "     con: array([], dtype=float64)\n",
       "     fun: -2000.0\n",
       " message: 'Optimization terminated successfully.'\n",
       "     nit: 3\n",
       "   slack: array([   0.,   35., 1000.])\n",
       "  status: 0\n",
       " success: True\n",
       "       x: array([0., 0., 4.])"
      ]
     },
     "execution_count": 140,
     "metadata": {},
     "output_type": "execute_result"
    }
   ],
   "source": [
    "# P -> función de costo\n",
    "# coeficientes de P \n",
    "# los coeficientes teniendo en cuenta que todos los x son el tipo de recurso \n",
    "c_ex = np.array([600,550,500]) # x_1 x_2 x_3\n",
    "\n",
    "# constantes de inecuaciones x_1 x_2 x_3 = 3 variables de control\n",
    "# representan 3 restricciones\n",
    "# [1-3] representan la cantidad máxima de producción por planta\n",
    "# [4-6] representan la cantidad máxima de pies cuadrados que ocupan por planta\n",
    "# [7-9] representan la cantidad máxima estimada de venta por tipo de producto\n",
    "A = np.array([[20, 18, 15],\n",
    "              [15, 12, 10],\n",
    "              [200, 220, 250]])\n",
    "\n",
    "# se cre el vector solucion de la matriz\n",
    "b = np.array([60, 75, 2000])\n",
    "# restricciones de variables no negativas, (no puede existir producción negativa)\n",
    "bounds_ex = [(  0,    None)]*3\n",
    "# Solución de problema a traves de simplex\n",
    "# se toma el vector C como negativo para encontrar el minimo de la funcion invertida, osea el máximo\n",
    "start = time.time()\n",
    "res_ex2 = linprog(-c_ex, A_ub=A, b_ub=b, bounds=bounds_ex, method='simplex')\n",
    "end = time.time()\n",
    "# se toma las soluciones probables del sistema \n",
    "print(end-start)\n",
    "res_ex2"
   ]
  },
  {
   "cell_type": "markdown",
   "metadata": {},
   "source": [
    "> Señor gerente, las soluciones principales que se rechazan o son clasificadas como “no factibles” quieren decir que tienen un valor menor o igual 0, lo que indica que no se estaría llegando al límite máximo de esa planta en cuanto a producción. En este caso se busca obtener la planta que produzca mayor cantidad de energía eléctrica sin sobrepasar las restricciones dadas; por lo que se obtiene la solución con valor 004 correspondiente a la planta de gas natural, la cual entre todos los resultados es la solución que maximiza todo el proceso de la producción esto quiere decir, que esta dentro de los limites del presupuesto que usted nos indicó y además, cuenta con todas las normas impuestas por la oficina de protección ambiental sobre las emisiones de efecto invernadero. "
   ]
  },
  {
   "cell_type": "markdown",
   "metadata": {},
   "source": [
    "- Conclusión"
   ]
  },
  {
   "cell_type": "markdown",
   "metadata": {},
   "source": [
    "> Después de revisar a través de múltiples algoritmos el tiempo de ejecución de los mismos evidenciamos como el valor que se obtiene en al implementar punto interior es 0.01599, con simplex obtuvimos 0.006997 y con simplex revisado se obtuvo 0.00399. Mientras que, con la solución propuesta por nosotros el tiempo que tardo este fue de 0.006998, por lo que al compararlo con los demás evidenciamos que el algoritmo nuestro es óptimo y eficiente."
   ]
  }
 ],
 "metadata": {
  "kernelspec": {
   "display_name": "Python 3.8.10 64-bit",
   "language": "python",
   "name": "python3"
  },
  "language_info": {
   "codemirror_mode": {
    "name": "ipython",
    "version": 3
   },
   "file_extension": ".py",
   "mimetype": "text/x-python",
   "name": "python",
   "nbconvert_exporter": "python",
   "pygments_lexer": "ipython3",
   "version": "3.8.10"
  },
  "orig_nbformat": 4,
  "vscode": {
   "interpreter": {
    "hash": "8d19b764d49e1dcc271e9a882564bf910ed3916f9785cce1f7e4046018fe4dea"
   }
  }
 },
 "nbformat": 4,
 "nbformat_minor": 2
}
