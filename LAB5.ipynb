{
 "cells": [
  {
   "cell_type": "markdown",
   "metadata": {
    "id": "Q9AdNTfAzlMB"
   },
   "source": [
    "# Laboratorio No. 5 Optimización"
   ]
  },
  {
   "cell_type": "markdown",
   "metadata": {
    "id": "-x-xB_2MtB9I"
   },
   "source": [
    "## Librerias"
   ]
  },
  {
   "cell_type": "code",
   "execution_count": 2,
   "metadata": {
    "id": "HydFmu4uzaOn"
   },
   "outputs": [],
   "source": [
    "import numpy as np\n",
    "from numpy.random import rand\n",
    "import matplotlib.pyplot as plt\n",
    "import time\n",
    "import sympy as sym\n",
    "from scipy.optimize import linprog, minimize"
   ]
  },
  {
   "cell_type": "markdown",
   "metadata": {
    "id": "MdKw9C_Czqki"
   },
   "source": [
    "## Simplex\n",
    "\n",
    "Función donde se implementa el algoritmo Simplex para optimización de problemas de programación lineal en la forma estandar.\n",
    "\n",
    "* El código fue adapatado de: https://github.com/mmolteratx/Simplex\n",
    "\n"
   ]
  },
  {
   "cell_type": "code",
   "execution_count": 3,
   "metadata": {
    "id": "kTLMg3HDEqLD"
   },
   "outputs": [],
   "source": [
    "# ------------------------------------------------------------------\n",
    "#                      Funciones Auxiliares\n",
    "# ------------------------------------------------------------------\n",
    "\n",
    "def printTableau(tableau, f):\n",
    "  \n",
    "    f = f[np.nonzero(f)]\n",
    "    print(\"ind \\t\", end = \"\")\n",
    "    for j in range(0, len(f)):\n",
    "        print(\"x_\" + str(j), end = \"\\t\")\n",
    "    for j in range(0, (len(tableau[0]) - len(f) - 2)):\n",
    "        print(\"s_\" + str(j), end = \"\\t\")\n",
    "    \n",
    "    print()\n",
    "    for j in range(0, len(tableau)):\n",
    "        for i in range(0, len(tableau[0])):\n",
    "            if(not np.isnan(tableau[j, i])):\n",
    "                if(i == 0):\n",
    "                    print(int(tableau[j, i]), end = \"\\t\")\n",
    "                else:\n",
    "                    print(round(tableau[j, i], 2), end = \"\\t\")\n",
    "            else:\n",
    "                print(end = \"\\t\")\n",
    "        print()\n",
    "\n",
    "def getTableau(c, A, b):\n",
    "  # Construct starting tableau\n",
    "  c[0:len(c)] = -1 * c[0:len(c)]\n",
    "\n",
    "  t2 = np.array([None, 0])\n",
    "  numVar = len(c)\n",
    "  numSlack = len(A)\n",
    "    \n",
    "  t2 = np.hstack(([None], c, [0]))\n",
    "  \n",
    "  basis = np.array([0] * numSlack)\n",
    "  \n",
    "  for i in range(0, len(basis)):\n",
    "      basis[i] = numVar + i\n",
    "      \n",
    "  t1 = np.hstack((np.transpose([basis]), A, np.transpose([b])))\n",
    "  \n",
    "  tableau = np.vstack((t1, t2))\n",
    "  \n",
    "  tableau = np.array(tableau, dtype ='float')\n",
    "  \n",
    "  return tableau\n",
    "\n",
    "# ------------------------------------------------------------------\n",
    "#                      Funcion Simplex\n",
    "# ------------------------------------------------------------------\n",
    "\n",
    "def simplex(f, A, b, print_iter=True):\n",
    "  for i in range(len(f)):\n",
    "    f[i] = -1 * f[i]\n",
    "    \n",
    "  # Build Tableu\n",
    "  tableau = getTableau(f, A, b)\n",
    "      \n",
    "  if(print_iter):\n",
    "      print(\"Starting Tableau:\")\n",
    "      printTableau(tableau, f)\n",
    "  \n",
    "  # Assume initial basis is not optimal\n",
    "  optimal = False\n",
    "\n",
    "  # Keep track of iterations for display\n",
    "  iter = 1\n",
    "\n",
    "  while not optimal:\n",
    "      \n",
    "    if print_iter:\n",
    "      print(\"--------------------------------------------------------------\")\n",
    "      print(\"ITERATION \", iter)\n",
    "      printTableau(tableau, f)\n",
    "        \n",
    "    # Look for direction of decreased cost\n",
    "    for cost in tableau[-1, 1:-1]:\n",
    "      if cost < 0:\n",
    "        optimal = False\n",
    "        break\n",
    "      optimal = True\n",
    "\n",
    "    # If all directions result in decreased cost SBF is optimal\n",
    "    if optimal: \n",
    "      break\n",
    "      \n",
    "    # nth variable enters basis, account for tableau indexing\n",
    "    n = tableau[-1, 1:-1].tolist().index(np.amin(tableau[-1, 1:-1])) + 1 # PUEDE QUE NO SEA 2\n",
    "\n",
    "    # Minimum ratio test, rth variable leaves basis \n",
    "    minimum = 99999\n",
    "    r = -1\n",
    "    \n",
    "    for i in range(0, len(tableau)-1): \n",
    "      if (tableau[i, n] > 0):\n",
    "        val = tableau[i, -1]/tableau[i, n]\n",
    "        if val<minimum: \n",
    "          minimum = val \n",
    "          r = i\n",
    "                    \n",
    "    pivot = tableau[r, n] \n",
    "    \n",
    "    print(\"Pivot Column:\", n)\n",
    "    print(\"Pivot Row:\", r)\n",
    "    print(\"Pivot Element: \", pivot)\n",
    "\n",
    "    # Perform row operations \n",
    "    # Divide the pivot row with the pivot element \n",
    "    tableau[r, 1:] = tableau[r, 1:] / pivot \n",
    "    \n",
    "    # Pivot other rows\n",
    "    for i in range(0, len(tableau)): \n",
    "      if i != r:\n",
    "        mult = tableau[i, n] / tableau[r, n]\n",
    "        tableau[i, 1:] = tableau[i, 1:] - mult * tableau[r, 1:] \n",
    "\n",
    "    # New basic variable \n",
    "    tableau[r, 0] = n - 1\n",
    "    iter += 1\n",
    "      \n",
    "  if print_iter:\n",
    "    print(\"--------------------------------------------------------------\")\n",
    "    print(\"Final Tableau reached in\", iter, \"iterations\")\n",
    "    printTableau(tableau, f)\n",
    "  else:\n",
    "      print(\"Solved\")\n",
    "      \n",
    "  x = np.array([0] * len(f), dtype = float)\n",
    "  # Save coefficients\n",
    "  for key in range(0, (len(tableau))):\n",
    "      if (tableau[key, 0] < len(f)):\n",
    "          x[int(tableau[key, 0])] = tableau[key, -1]\n",
    "  \n",
    "  optimalValue = -1 * tableau[-1,-1]\n",
    "\n",
    "  print(\"--------------------------------------------------------------\")\n",
    "  print(\"SOLUTION: \")\n",
    "  print(\"Fobj Optimal Value: \" + str(optimalValue))\n",
    "  print(\"Solution: \" + str(x))"
   ]
  },
  {
   "cell_type": "markdown",
   "metadata": {
    "id": "j5CwO0_g2_mP"
   },
   "source": [
    "\n",
    "##  Ejemplo\n",
    "\n",
    "Ejemplo de como utilizar la función implementada en python."
   ]
  },
  {
   "cell_type": "markdown",
   "metadata": {
    "id": "T6lfI_GsxSyH"
   },
   "source": [
    "Problema:\n",
    "$$ \\min f(x) = -3 x_1 -  x_2 - 3 x_3 $$\n",
    "\n",
    "$$ \\begin{array}{rl}\n",
    "  2x_1 + x_2 + x_3 & \\leq 2 \\\\\n",
    "  x_1 + 2x_2 + 3x_3 & \\leq 5 \\\\\n",
    "  2x_1 + 2x_2 + x_3 & \\leq 6 \\\\\n",
    "  x_1,x_2, x_3 & \\geq 0 \\\\\n",
    " \\end{array}$$\n",
    "\n",
    " Forma Estándar:\n",
    " $$ \\min f(x) = -3 x_1 -  x_2 - 3 x_3  $$\n",
    "\n",
    "$$ \\begin{array}{rl}\n",
    "  2x_1 + x_2 + x_3 + y_1 & = 2 \\\\\n",
    "  x_1 + 2x_2 + 3x_3 + y_2 & = 5 \\\\\n",
    "  2x_1 + 2x_2 + x_3 + y_3 & = 6 \\\\\n",
    "  x_1,x_2, x_3, y_1, y_2, y_3 & \\geq 0 \\\\\n",
    " \\end{array}$$"
   ]
  },
  {
   "cell_type": "code",
   "execution_count": 4,
   "metadata": {
    "colab": {
     "base_uri": "https://localhost:8080/"
    },
    "id": "QFgUuowKUiy6",
    "outputId": "e4904b57-80da-45aa-adcf-d6157a686be3"
   },
   "outputs": [
    {
     "name": "stdout",
     "output_type": "stream",
     "text": [
      "Starting Tableau:\n",
      "ind \tx_0\tx_1\tx_2\ts_0\ts_1\ts_2\t\n",
      "6\t2.0\t1.0\t1.0\t1.0\t0.0\t0.0\t2.0\t\n",
      "7\t1.0\t2.0\t3.0\t0.0\t1.0\t0.0\t5.0\t\n",
      "8\t2.0\t2.0\t1.0\t0.0\t0.0\t1.0\t6.0\t\n",
      "\t-3.0\t-1.0\t-3.0\t0.0\t0.0\t0.0\t0.0\t\n",
      "--------------------------------------------------------------\n",
      "ITERATION  1\n",
      "ind \tx_0\tx_1\tx_2\ts_0\ts_1\ts_2\t\n",
      "6\t2.0\t1.0\t1.0\t1.0\t0.0\t0.0\t2.0\t\n",
      "7\t1.0\t2.0\t3.0\t0.0\t1.0\t0.0\t5.0\t\n",
      "8\t2.0\t2.0\t1.0\t0.0\t0.0\t1.0\t6.0\t\n",
      "\t-3.0\t-1.0\t-3.0\t0.0\t0.0\t0.0\t0.0\t\n",
      "Pivot Column: 1\n",
      "Pivot Row: 0\n",
      "Pivot Element:  2.0\n",
      "--------------------------------------------------------------\n",
      "ITERATION  2\n",
      "ind \tx_0\tx_1\tx_2\ts_0\ts_1\ts_2\t\n",
      "0\t1.0\t0.5\t0.5\t0.5\t0.0\t0.0\t1.0\t\n",
      "7\t0.0\t1.5\t2.5\t-0.5\t1.0\t0.0\t4.0\t\n",
      "8\t0.0\t1.0\t0.0\t-1.0\t0.0\t1.0\t4.0\t\n",
      "\t0.0\t0.5\t-1.5\t1.5\t0.0\t0.0\t3.0\t\n",
      "Pivot Column: 3\n",
      "Pivot Row: 1\n",
      "Pivot Element:  2.5\n",
      "--------------------------------------------------------------\n",
      "ITERATION  3\n",
      "ind \tx_0\tx_1\tx_2\ts_0\ts_1\ts_2\t\n",
      "0\t1.0\t0.2\t0.0\t0.6\t-0.2\t0.0\t0.2\t\n",
      "2\t0.0\t0.6\t1.0\t-0.2\t0.4\t0.0\t1.6\t\n",
      "8\t0.0\t1.0\t0.0\t-1.0\t0.0\t1.0\t4.0\t\n",
      "\t0.0\t1.4\t0.0\t1.2\t0.6\t0.0\t5.4\t\n",
      "--------------------------------------------------------------\n",
      "Final Tableau reached in 3 iterations\n",
      "ind \tx_0\tx_1\tx_2\ts_0\ts_1\ts_2\t\n",
      "0\t1.0\t0.2\t0.0\t0.6\t-0.2\t0.0\t0.2\t\n",
      "2\t0.0\t0.6\t1.0\t-0.2\t0.4\t0.0\t1.6\t\n",
      "8\t0.0\t1.0\t0.0\t-1.0\t0.0\t1.0\t4.0\t\n",
      "\t0.0\t1.4\t0.0\t1.2\t0.6\t0.0\t5.4\t\n",
      "--------------------------------------------------------------\n",
      "SOLUTION: \n",
      "Fobj Optimal Value: -5.4\n",
      "Solution: [0.2 0.  1.6 0.  0.  0. ]\n"
     ]
    }
   ],
   "source": [
    "# Probar función\n",
    "f = np.array([-3, -1, -3, 0, 0, 0])\n",
    "A = np.array([[2, 1, 1, 1, 0, 0], [1, 2, 3, 0, 1, 0], [2, 2, 1, 0, 0, 1]])\n",
    "b = np.array([2, 5, 6])\n",
    "\n",
    "simplex(f,A,b)"
   ]
  },
  {
   "cell_type": "markdown",
   "metadata": {},
   "source": [
    "# Explicación de algoritmo"
   ]
  },
  {
   "cell_type": "code",
   "execution_count": null,
   "metadata": {},
   "outputs": [],
   "source": []
  },
  {
   "cell_type": "markdown",
   "metadata": {},
   "source": [
    "> Planteamiento de problemas a y b en forma de PL, en primer lugar tenemos:  \n",
    "Carmac Company es una fábrica de carros compactos y subcompactos. La producción de cada carro requiere una cierta cantidad de materia prima y mano de obra para su realización. Para los carros compactos la materia prima en (lbs) es 200 y 18 horas de mano de obra. Mientras que, para los carros subcompactos la materia prima en (lbs) es 150 y 20 horas de mano de obra. Se conoce que, el costo unitario de la materia prima es de $10 y el costo unitario de la mano de Obra es de $70. El total máximo disponible de libras es 80000 y el máximo de horas para mano de obra 9000.\n",
    "- Problema:\n",
    "$$ \\max f(x_1, x_2) = 6740x_1 + 5100x_2$$\n",
    "\n",
    "$$ \\begin{array}{rl}\n",
    "  200x_1 + 150x_2 \\leq 80000 \\\\\n",
    "  18x_1 + 20x_2 \\leq 9000 \\\\\n",
    "  x_1 \\leq 1500 \\\\\n",
    "  x_2 \\leq 200 \\\\\n",
    "  x_1,x_2\\geq 0 \\\\\n",
    " \\end{array}$$\n",
    "\n",
    "- Forma Estándar:\n",
    "\n",
    "$$ \\min f(x_1, x_2) = -6740x_1 - 5100x_2$$\n",
    "\n",
    "$$ \\begin{array}{rl}\n",
    "  200x_1 + 150x_2 + y_1 = 80000 \\\\\n",
    "  18x_1 + 20x_2 + y_2 = 9000 \\\\\n",
    "  x_1 + y_3 = 1500 \\\\\n",
    "  x_2 + y_4 = 200 \\\\\n",
    "  x_1,x_2,y_1,y_2,y_3,y_4\\geq 0 \\\\\n",
    " \\end{array}$$"
   ]
  },
  {
   "cell_type": "code",
   "execution_count": 5,
   "metadata": {},
   "outputs": [
    {
     "name": "stdout",
     "output_type": "stream",
     "text": [
      "Starting Tableau:\n",
      "ind \tx_0\tx_1\ts_0\ts_1\ts_2\ts_3\t\n",
      "6\t200.0\t150.0\t1.0\t0.0\t0.0\t0.0\t8000.0\t\n",
      "7\t18.0\t20.0\t0.0\t1.0\t0.0\t0.0\t9000.0\t\n",
      "8\t1.0\t0.0\t0.0\t0.0\t1.0\t0.0\t1500.0\t\n",
      "9\t0.0\t1.0\t0.0\t0.0\t0.0\t1.0\t200.0\t\n",
      "\t-6740.0\t-5100.0\t0.0\t0.0\t0.0\t0.0\t0.0\t\n",
      "--------------------------------------------------------------\n",
      "ITERATION  1\n",
      "ind \tx_0\tx_1\ts_0\ts_1\ts_2\ts_3\t\n",
      "6\t200.0\t150.0\t1.0\t0.0\t0.0\t0.0\t8000.0\t\n",
      "7\t18.0\t20.0\t0.0\t1.0\t0.0\t0.0\t9000.0\t\n",
      "8\t1.0\t0.0\t0.0\t0.0\t1.0\t0.0\t1500.0\t\n",
      "9\t0.0\t1.0\t0.0\t0.0\t0.0\t1.0\t200.0\t\n",
      "\t-6740.0\t-5100.0\t0.0\t0.0\t0.0\t0.0\t0.0\t\n",
      "Pivot Column: 1\n",
      "Pivot Row: 0\n",
      "Pivot Element:  200.0\n",
      "--------------------------------------------------------------\n",
      "ITERATION  2\n",
      "ind \tx_0\tx_1\ts_0\ts_1\ts_2\ts_3\t\n",
      "0\t1.0\t0.75\t0.0\t0.0\t0.0\t0.0\t40.0\t\n",
      "7\t0.0\t6.5\t-0.09\t1.0\t0.0\t0.0\t8280.0\t\n",
      "8\t0.0\t-0.75\t-0.0\t0.0\t1.0\t0.0\t1460.0\t\n",
      "9\t0.0\t1.0\t0.0\t0.0\t0.0\t1.0\t200.0\t\n",
      "\t0.0\t-45.0\t33.7\t0.0\t0.0\t0.0\t269600.0\t\n",
      "Pivot Column: 2\n",
      "Pivot Row: 0\n",
      "Pivot Element:  0.75\n",
      "--------------------------------------------------------------\n",
      "ITERATION  3\n",
      "ind \tx_0\tx_1\ts_0\ts_1\ts_2\ts_3\t\n",
      "1\t1.33\t1.0\t0.01\t0.0\t0.0\t0.0\t53.33\t\n",
      "7\t-8.67\t0.0\t-0.13\t1.0\t0.0\t0.0\t7933.33\t\n",
      "8\t1.0\t0.0\t0.0\t0.0\t1.0\t0.0\t1500.0\t\n",
      "9\t-1.33\t0.0\t-0.01\t0.0\t0.0\t1.0\t146.67\t\n",
      "\t60.0\t0.0\t34.0\t0.0\t0.0\t0.0\t272000.0\t\n",
      "--------------------------------------------------------------\n",
      "Final Tableau reached in 3 iterations\n",
      "ind \tx_0\tx_1\ts_0\ts_1\ts_2\ts_3\t\n",
      "1\t1.33\t1.0\t0.01\t0.0\t0.0\t0.0\t53.33\t\n",
      "7\t-8.67\t0.0\t-0.13\t1.0\t0.0\t0.0\t7933.33\t\n",
      "8\t1.0\t0.0\t0.0\t0.0\t1.0\t0.0\t1500.0\t\n",
      "9\t-1.33\t0.0\t-0.01\t0.0\t0.0\t1.0\t146.67\t\n",
      "\t60.0\t0.0\t34.0\t0.0\t0.0\t0.0\t272000.0\t\n",
      "--------------------------------------------------------------\n",
      "SOLUTION: \n",
      "Fobj Optimal Value: -272000.0\n",
      "Solution: [ 0.         53.33333333  0.          0.          0.          0.        ]\n"
     ]
    }
   ],
   "source": [
    "# \n",
    "\n",
    "f1 = np.array([6740, 5100, 0, 0, 0, 0])\n",
    "A1 = np.array([[200, 150, 1, 0, 0, 0],[18, 20, 0, 1, 0, 0],[1, 0, 0, 0, 1, 0],[0, 1, 0, 0, 0, 1]])\n",
    "b1 = np.array([8000, 9000, 1500, 200])\n",
    "\n",
    "simplex(-f1,A1,b1)"
   ]
  },
  {
   "cell_type": "markdown",
   "metadata": {},
   "source": [
    "> Planteamiento del problema enfocado en los helados consisten en el siguiente planteamiento:  \n",
    "Cremheladito es una empresa que se caracteriza por producir helados y cuenta con cinco sabores disponibles: Chocolate, Vainilla, Chicle, Banano y Lulo. Por desgracia, la compañía tiene actualmente un déficit en el abastecimiento de leche, azúcar y crema por lo que la compañía decidió establecer una disponibilidad de 240 galones de leche, 190 libras de azúcar y 80 galones de crema disponibles al mes. La producción de un galón de helado de Chocolate consume 0.45 galones de leche, 0.5 libras de azúcar y 0.10 galones de crema. El galón de helado de Vainilla consume 0.5 galones de leche, 0.4 libras de azúcar y 0.15 galones de crema. El galón de helado de Chicle consume 0.4 galones de leche, 0.4 libras de azúcar y 0.3 galones de crema. El galón de helado de Banano consume 0.4 galones de leche, 0.4 libras de azúcar y 0.2 galones de crema. Y, por último, el galón de helado de Lulo consume 0.42 galones de leche, 0.2 libras de azúcar y 0.1 galones de crema. Las ganancias que se tienen al vender cada helado son $1.1, $1.0, $0.9, $0.92 y $1.2 respectivamente.\n",
    "\n",
    "- Problema:\n",
    "\n",
    "$$ \\max f(h_i) = 1.1h_1 + h_2 + 0.9h_3 + 0.92h_4 +1.2h_5\\;\\;i \\in [1,5]$$\n",
    "\n",
    "$$ \\begin{array}{rl}\n",
    "  0.45h_1 + 0.5h_2 + 0.4h_3 + 0.4h_4 + 0.42h_5 \\leq 240 \\\\\n",
    "  0.5h_1 + 0.4h_2 + 0.4h_3 + 0.4h_4 + 0.2h_5  \\leq 190\\\\\n",
    "  0.1h_1 + 0.15h_2 + 0.3h_3 + 0.2h_4 + 0.1h_5  \\leq 80 \\\\\n",
    "  h_i\\geq 0 \\;\\;i \\in [1,5]\\\\\n",
    " \\end{array}$$ \n",
    " \n",
    "- Forma Estándar:\n",
    "\n",
    "$$ \\min f(h_i) = -1.1h_1 - h_2 - 0.9h_3 - 0.92h_4 - 1.2h_5\\;\\;i \\in [1,5]$$\n",
    "\n",
    "$$ \\begin{array}{rl}\n",
    "  0.45h_1 + 0.5h_2 + 0.4h_3 + 0.4h_4 + 0.42h_5 + y_1 = 240 \\\\\n",
    "  0.5h_1 + 0.4h_2 + 0.4h_3 + 0.4h_4 + 0.2h_5 + y_2  = 190\\\\\n",
    "  0.1h_1 + 0.15h_2 + 0.3h_3 + 0.2h_4 + 0.1h_5 + y_3 = 80 \\\\\n",
    "   y_1,y_2,y_3\\geq 0 \\\\\n",
    "  h_i\\geq 0 \\;\\;i \\in [1,5]\\\\\n",
    " \\end{array}$$ \n"
   ]
  },
  {
   "cell_type": "code",
   "execution_count": 6,
   "metadata": {},
   "outputs": [
    {
     "name": "stdout",
     "output_type": "stream",
     "text": [
      "Starting Tableau:\n",
      "ind \tx_0\tx_1\tx_2\tx_3\tx_4\ts_0\ts_1\ts_2\t\n",
      "8\t0.45\t0.5\t0.4\t0.4\t0.42\t1.0\t0.0\t0.0\t240.0\t\n",
      "9\t0.5\t0.4\t0.4\t0.4\t0.2\t0.0\t1.0\t0.0\t190.0\t\n",
      "10\t0.1\t0.15\t0.3\t0.2\t0.1\t0.0\t0.0\t1.0\t80.0\t\n",
      "\t-1.1\t-1.0\t-0.9\t-0.92\t-1.2\t-0.0\t-0.0\t-0.0\t0.0\t\n",
      "--------------------------------------------------------------\n",
      "ITERATION  1\n",
      "ind \tx_0\tx_1\tx_2\tx_3\tx_4\ts_0\ts_1\ts_2\t\n",
      "8\t0.45\t0.5\t0.4\t0.4\t0.42\t1.0\t0.0\t0.0\t240.0\t\n",
      "9\t0.5\t0.4\t0.4\t0.4\t0.2\t0.0\t1.0\t0.0\t190.0\t\n",
      "10\t0.1\t0.15\t0.3\t0.2\t0.1\t0.0\t0.0\t1.0\t80.0\t\n",
      "\t-1.1\t-1.0\t-0.9\t-0.92\t-1.2\t-0.0\t-0.0\t-0.0\t0.0\t\n",
      "Pivot Column: 5\n",
      "Pivot Row: 0\n",
      "Pivot Element:  0.42\n",
      "--------------------------------------------------------------\n",
      "ITERATION  2\n",
      "ind \tx_0\tx_1\tx_2\tx_3\tx_4\ts_0\ts_1\ts_2\t\n",
      "4\t1.07\t1.19\t0.95\t0.95\t1.0\t2.38\t0.0\t0.0\t571.43\t\n",
      "9\t0.29\t0.16\t0.21\t0.21\t0.0\t-0.48\t1.0\t0.0\t75.71\t\n",
      "10\t-0.01\t0.03\t0.2\t0.1\t0.0\t-0.24\t0.0\t1.0\t22.86\t\n",
      "\t0.19\t0.43\t0.24\t0.22\t0.0\t2.86\t0.0\t0.0\t685.71\t\n",
      "--------------------------------------------------------------\n",
      "Final Tableau reached in 2 iterations\n",
      "ind \tx_0\tx_1\tx_2\tx_3\tx_4\ts_0\ts_1\ts_2\t\n",
      "4\t1.07\t1.19\t0.95\t0.95\t1.0\t2.38\t0.0\t0.0\t571.43\t\n",
      "9\t0.29\t0.16\t0.21\t0.21\t0.0\t-0.48\t1.0\t0.0\t75.71\t\n",
      "10\t-0.01\t0.03\t0.2\t0.1\t0.0\t-0.24\t0.0\t1.0\t22.86\t\n",
      "\t0.19\t0.43\t0.24\t0.22\t0.0\t2.86\t0.0\t0.0\t685.71\t\n",
      "--------------------------------------------------------------\n",
      "SOLUTION: \n",
      "Fobj Optimal Value: -685.7142857142857\n",
      "Solution: [  0.           0.           0.           0.         571.42857143\n",
      "   0.           0.           0.        ]\n"
     ]
    }
   ],
   "source": [
    "# \n",
    "\n",
    "f2 = np.array([1.1, 1, 0.9, 0.92, 1.2, 0, 0, 0])\n",
    "A2 = np.array([[0.45, 0.5, 0.4, 0.4, 0.42, 1, 0, 0],[0.5, 0.4, 0.4, 0.4, 0.2, 0, 1, 0],[0.1 , 0.15, 0.3, 0.2, 0.1, 0, 0, 1]])\n",
    "b2 = np.array([240, 190, 80])\n",
    "\n",
    "simplex(-f2,A2,b2)"
   ]
  }
 ],
 "metadata": {
  "colab": {
   "collapsed_sections": [],
   "name": "Lab6_Ejemplo.ipynb",
   "provenance": [],
   "toc_visible": true
  },
  "kernelspec": {
   "display_name": "Python 3.8.10 64-bit",
   "language": "python",
   "name": "python3"
  },
  "language_info": {
   "codemirror_mode": {
    "name": "ipython",
    "version": 3
   },
   "file_extension": ".py",
   "mimetype": "text/x-python",
   "name": "python",
   "nbconvert_exporter": "python",
   "pygments_lexer": "ipython3",
   "version": "3.8.10"
  },
  "vscode": {
   "interpreter": {
    "hash": "8d19b764d49e1dcc271e9a882564bf910ed3916f9785cce1f7e4046018fe4dea"
   }
  }
 },
 "nbformat": 4,
 "nbformat_minor": 1
}
